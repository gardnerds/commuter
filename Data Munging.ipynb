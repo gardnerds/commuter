{
 "cells": [
  {
   "cell_type": "code",
   "execution_count": 15,
   "metadata": {
    "collapsed": true
   },
   "outputs": [],
   "source": [
    "import snap\n",
    "import pandas as pd"
   ]
  },
  {
   "cell_type": "code",
   "execution_count": 34,
   "metadata": {
    "collapsed": true
   },
   "outputs": [],
   "source": [
    "year = 2015\n",
    "#filename = \n",
    "df = pd.read_csv(\"./ca_od_main_JT01_\"+str(year)+\".csv\")"
   ]
  },
  {
   "cell_type": "code",
   "execution_count": 35,
   "metadata": {},
   "outputs": [
    {
     "name": "stdout",
     "output_type": "stream",
     "text": [
      "85786\n",
      "127552\n"
     ]
    }
   ],
   "source": [
    "df_xwalk = pd.read_csv('./ca_xwalk.csv')\n",
    "bay_counties = ['San Francisco County, CA', 'Marin County, CA', 'Alameda County, CA', 'Santa Clara County, CA', 'Contra Costa County, CA', 'San Mateo County, CA']\n",
    "outer_counties = bay_counties + ['Sonoma County, CA', 'San Joaquin County, CA', 'Napa County, CA', 'Santa Cruz County, CA', 'Solano County, CA']\n",
    "df_bay_outer = df_xwalk.loc[df_xwalk['ctyname'].isin(outer_counties)]\n",
    "df_bay = df_xwalk.loc[df_xwalk['ctyname'].isin(bay_counties)]\n",
    "print len(df_bay.index)\n",
    "print len(df_bay_outer.index)\n",
    "\n"
   ]
  },
  {
   "cell_type": "code",
   "execution_count": 36,
   "metadata": {},
   "outputs": [
    {
     "name": "stdout",
     "output_type": "stream",
     "text": [
      "13417793\n",
      "2819148\n",
      "2486755\n"
     ]
    }
   ],
   "source": [
    "df_bay = df_bay[['tabblk2010', 'ctyname']]\n",
    "df_bay = df_bay.rename(index=str, columns={\"tabblk2010\": \"w_geocode\"})\n",
    "\n",
    "df_bay_outer = df_bay_outer[['tabblk2010', 'ctyname']]\n",
    "df_bay_outer = df_bay_outer.rename(index=str, columns={\"tabblk2010\": \"h_geocode\"})\n",
    "\n",
    "print len(df.index)\n",
    "\n",
    "result = pd.merge(df, df_bay, on='w_geocode')\n",
    "print len(result.index)\n",
    "result2 = pd.merge(result, df_bay_outer, on='h_geocode')\n",
    "print len(result2.index)"
   ]
  },
  {
   "cell_type": "code",
   "execution_count": null,
   "metadata": {
    "collapsed": true
   },
   "outputs": [],
   "source": [
    "\n",
    "for index, row in result2.iterrows():\n",
    "    if row['S000'] == 0:\n",
    "        continue\n",
    "    if row['h_geocode'] in census_block_outdeg_dict.keys():\n",
    "        census_block_outdeg_dict[row['h_geocode']] += row['S000']\n",
    "    else:\n",
    "        census_block_outdeg_dict[row['h_geocode']] = row['S000']\n",
    "    if index % 100000 == 0:\n",
    "        print index"
   ]
  },
  {
   "cell_type": "code",
   "execution_count": 28,
   "metadata": {
    "collapsed": true
   },
   "outputs": [],
   "source": [
    "result3 = result2[['h_geocode', 'w_geocode']]\n",
    "result3.head()\n",
    "result3.to_csv('edgelist'+str(year)+'_unweighted.txt', header=None, index=None, sep=' ', mode='a')"
   ]
  },
  {
   "cell_type": "code",
   "execution_count": 29,
   "metadata": {
    "collapsed": true
   },
   "outputs": [],
   "source": [
    "G = snap.LoadEdgeList(snap.PNGraph, 'edgelist'+str(year)+'_unweighted.txt', 0, 1, ' ')"
   ]
  },
  {
   "cell_type": "code",
   "execution_count": 15,
   "metadata": {},
   "outputs": [
    {
     "name": "stdout",
     "output_type": "stream",
     "text": [
      "2.7.10 (default, Oct  6 2017, 22:29:07) \n",
      "[GCC 4.2.1 Compatible Apple LLVM 9.0.0 (clang-900.0.31)]\n"
     ]
    }
   ],
   "source": [
    "import sys\n",
    "print sys.version"
   ]
  },
  {
   "cell_type": "code",
   "execution_count": 30,
   "metadata": {},
   "outputs": [
    {
     "data": {
      "text/plain": [
       "90485"
      ]
     },
     "execution_count": 30,
     "metadata": {},
     "output_type": "execute_result"
    }
   ],
   "source": [
    "G.GetNodes()"
   ]
  },
  {
   "cell_type": "code",
   "execution_count": 31,
   "metadata": {},
   "outputs": [
    {
     "data": {
      "text/plain": [
       "2121308"
      ]
     },
     "execution_count": 31,
     "metadata": {},
     "output_type": "execute_result"
    }
   ],
   "source": [
    "G.GetEdges()\n"
   ]
  },
  {
   "cell_type": "code",
   "execution_count": 23,
   "metadata": {},
   "outputs": [
    {
     "name": "stdout",
     "output_type": "stream",
     "text": [
      "1755\n"
     ]
    }
   ],
   "source": [
    "print snap.CntSelfEdges(G)"
   ]
  },
  {
   "cell_type": "code",
   "execution_count": 37,
   "metadata": {},
   "outputs": [
    {
     "name": "stdout",
     "output_type": "stream",
     "text": [
      "2704262\n"
     ]
    }
   ],
   "source": [
    "print result2['S000'].sum()"
   ]
  },
  {
   "cell_type": "code",
   "execution_count": 7,
   "metadata": {},
   "outputs": [
    {
     "ename": "RuntimeError",
     "evalue": "Execution stopped: (0<=ValN)&&(ValN<Vals) [Reason:'Index:-266585020 Vals:2146567384 MxVals:2146567384 Type:4TVecIS_I4TIntiEiE'], file ../../snap/glib-core/ds.h, line 491",
     "output_type": "error",
     "traceback": [
      "\u001b[0;31m---------------------------------------------------------------------------\u001b[0m",
      "\u001b[0;31mRuntimeError\u001b[0m                              Traceback (most recent call last)",
      "\u001b[0;32m<ipython-input-7-b101aae77901>\u001b[0m in \u001b[0;36m<module>\u001b[0;34m()\u001b[0m\n\u001b[1;32m      1\u001b[0m \u001b[0mCfVec\u001b[0m \u001b[0;34m=\u001b[0m \u001b[0msnap\u001b[0m\u001b[0;34m.\u001b[0m\u001b[0mTFltPrV\u001b[0m\u001b[0;34m(\u001b[0m\u001b[0;34m)\u001b[0m\u001b[0;34m\u001b[0m\u001b[0m\n\u001b[0;32m----> 2\u001b[0;31m \u001b[0mCf\u001b[0m \u001b[0;34m=\u001b[0m \u001b[0msnap\u001b[0m\u001b[0;34m.\u001b[0m\u001b[0mGetClustCf\u001b[0m\u001b[0;34m(\u001b[0m\u001b[0mG\u001b[0m\u001b[0;34m,\u001b[0m \u001b[0mCfVec\u001b[0m\u001b[0;34m,\u001b[0m \u001b[0;36m1\u001b[0m\u001b[0;34m)\u001b[0m\u001b[0;34m\u001b[0m\u001b[0m\n\u001b[0m\u001b[1;32m      3\u001b[0m \u001b[0;32mprint\u001b[0m \u001b[0mCf\u001b[0m\u001b[0;34m\u001b[0m\u001b[0m\n",
      "\u001b[0;32m/Users/gardner49/Documents/Other/Stanford/CS224W/PROJECT/env/lib/python2.7/site-packages/snap.pyc\u001b[0m in \u001b[0;36mGetClustCf\u001b[0;34m(tspec, *args)\u001b[0m\n\u001b[1;32m 247638\u001b[0m     \u001b[0;32mif\u001b[0m \u001b[0mtype\u001b[0m\u001b[0;34m(\u001b[0m\u001b[0mtspec\u001b[0m\u001b[0;34m)\u001b[0m \u001b[0;34m==\u001b[0m \u001b[0mPUndirNet\u001b[0m\u001b[0;34m:\u001b[0m \u001b[0;32mreturn\u001b[0m \u001b[0mGetClustCf_PUndirNet\u001b[0m\u001b[0;34m(\u001b[0m\u001b[0mtspec\u001b[0m\u001b[0;34m,\u001b[0m \u001b[0;34m*\u001b[0m\u001b[0margs\u001b[0m\u001b[0;34m)\u001b[0m\u001b[0;34m\u001b[0m\u001b[0m\n\u001b[1;32m 247639\u001b[0m     \u001b[0;32mif\u001b[0m \u001b[0mtype\u001b[0m\u001b[0;34m(\u001b[0m\u001b[0mtspec\u001b[0m\u001b[0;34m)\u001b[0m \u001b[0;34m==\u001b[0m \u001b[0mPDirNet\u001b[0m\u001b[0;34m:\u001b[0m \u001b[0;32mreturn\u001b[0m \u001b[0mGetClustCf_PDirNet\u001b[0m\u001b[0;34m(\u001b[0m\u001b[0mtspec\u001b[0m\u001b[0;34m,\u001b[0m \u001b[0;34m*\u001b[0m\u001b[0margs\u001b[0m\u001b[0;34m)\u001b[0m\u001b[0;34m\u001b[0m\u001b[0m\n\u001b[0;32m>247640\u001b[0;31m     \u001b[0;32mif\u001b[0m \u001b[0mtype\u001b[0m\u001b[0;34m(\u001b[0m\u001b[0mtspec\u001b[0m\u001b[0;34m)\u001b[0m \u001b[0;34m==\u001b[0m \u001b[0mPNGraph\u001b[0m \u001b[0;34m:\u001b[0m \u001b[0;32mreturn\u001b[0m \u001b[0mGetClustCf_PNGraph\u001b[0m\u001b[0;34m(\u001b[0m\u001b[0mtspec\u001b[0m\u001b[0;34m,\u001b[0m \u001b[0;34m*\u001b[0m\u001b[0margs\u001b[0m\u001b[0;34m)\u001b[0m\u001b[0;34m\u001b[0m\u001b[0m\n\u001b[0m\u001b[1;32m 247641\u001b[0m     \u001b[0;32mif\u001b[0m \u001b[0mtype\u001b[0m\u001b[0;34m(\u001b[0m\u001b[0mtspec\u001b[0m\u001b[0;34m)\u001b[0m \u001b[0;34m==\u001b[0m \u001b[0mPNEANet\u001b[0m \u001b[0;34m:\u001b[0m \u001b[0;32mreturn\u001b[0m \u001b[0mGetClustCf_PNEANet\u001b[0m\u001b[0;34m(\u001b[0m\u001b[0mtspec\u001b[0m\u001b[0;34m,\u001b[0m \u001b[0;34m*\u001b[0m\u001b[0margs\u001b[0m\u001b[0;34m)\u001b[0m\u001b[0;34m\u001b[0m\u001b[0m\n\u001b[1;32m 247642\u001b[0m     \u001b[0;32mif\u001b[0m \u001b[0mtype\u001b[0m\u001b[0;34m(\u001b[0m\u001b[0mtspec\u001b[0m\u001b[0;34m)\u001b[0m \u001b[0;34m==\u001b[0m \u001b[0mPNGraphMP\u001b[0m\u001b[0;34m:\u001b[0m \u001b[0;32mreturn\u001b[0m \u001b[0mGetClustCf_PNGraphMP\u001b[0m\u001b[0;34m(\u001b[0m\u001b[0mtspec\u001b[0m\u001b[0;34m,\u001b[0m \u001b[0;34m*\u001b[0m\u001b[0margs\u001b[0m\u001b[0;34m)\u001b[0m\u001b[0;34m\u001b[0m\u001b[0m\n",
      "\u001b[0;32m/Users/gardner49/Documents/Other/Stanford/CS224W/PROJECT/env/lib/python2.7/site-packages/snap.pyc\u001b[0m in \u001b[0;36mGetClustCf_PNGraph\u001b[0;34m(*args)\u001b[0m\n\u001b[1;32m 236147\u001b[0m \u001b[0;34m\u001b[0m\u001b[0m\n\u001b[1;32m 236148\u001b[0m     \"\"\"\n\u001b[0;32m>236149\u001b[0;31m     \u001b[0;32mreturn\u001b[0m \u001b[0m_snap\u001b[0m\u001b[0;34m.\u001b[0m\u001b[0mGetClustCf_PNGraph\u001b[0m\u001b[0;34m(\u001b[0m\u001b[0;34m*\u001b[0m\u001b[0margs\u001b[0m\u001b[0;34m)\u001b[0m\u001b[0;34m\u001b[0m\u001b[0m\n\u001b[0m\u001b[1;32m 236150\u001b[0m \u001b[0;34m\u001b[0m\u001b[0m\n\u001b[1;32m 236151\u001b[0m \u001b[0;32mdef\u001b[0m \u001b[0mGetClustCfAll_PNGraph\u001b[0m\u001b[0;34m(\u001b[0m\u001b[0mGraph\u001b[0m\u001b[0;34m,\u001b[0m \u001b[0mDegToCCfV\u001b[0m\u001b[0;34m,\u001b[0m \u001b[0mSampleNodes\u001b[0m\u001b[0;34m=\u001b[0m\u001b[0;34m-\u001b[0m\u001b[0;36m1\u001b[0m\u001b[0;34m)\u001b[0m\u001b[0;34m:\u001b[0m\u001b[0;34m\u001b[0m\u001b[0m\n",
      "\u001b[0;31mRuntimeError\u001b[0m: Execution stopped: (0<=ValN)&&(ValN<Vals) [Reason:'Index:-266585020 Vals:2146567384 MxVals:2146567384 Type:4TVecIS_I4TIntiEiE'], file ../../snap/glib-core/ds.h, line 491"
     ]
    }
   ],
   "source": [
    "CfVec = snap.TFltPrV()\n",
    "Cf = snap.GetClustCf(G, CfVec, 1)\n",
    "print Cf"
   ]
  },
  {
   "cell_type": "code",
   "execution_count": 9,
   "metadata": {},
   "outputs": [
    {
     "name": "stdout",
     "output_type": "stream",
     "text": [
      "405\n",
      "500\n"
     ]
    }
   ],
   "source": [
    "G = snap.LoadEdgeList(snap.PNGraph, 'test.txt', 0, 1, ' ')\n",
    "print G.GetNodes()\n",
    "print G.GetEdges()"
   ]
  },
  {
   "cell_type": "code",
   "execution_count": 11,
   "metadata": {},
   "outputs": [
    {
     "ename": "RuntimeError",
     "evalue": "Execution stopped: (0<=ValN)&&(ValN<Vals) [Reason:'Index:-347110296 Vals:2140576379 MxVals:2140576379 Type:4TVecIS_I4TIntiEiE'], file ../../snap/glib-core/ds.h, line 491",
     "output_type": "error",
     "traceback": [
      "\u001b[0;31m---------------------------------------------------------------------------\u001b[0m",
      "\u001b[0;31mRuntimeError\u001b[0m                              Traceback (most recent call last)",
      "\u001b[0;32m<ipython-input-11-c0c0e486e2d8>\u001b[0m in \u001b[0;36m<module>\u001b[0;34m()\u001b[0m\n\u001b[1;32m      1\u001b[0m \u001b[0;34m\u001b[0m\u001b[0m\n\u001b[0;32m----> 2\u001b[0;31m \u001b[0mCf\u001b[0m \u001b[0;34m=\u001b[0m \u001b[0msnap\u001b[0m\u001b[0;34m.\u001b[0m\u001b[0mGetClustCf\u001b[0m\u001b[0;34m(\u001b[0m\u001b[0mG\u001b[0m\u001b[0;34m,\u001b[0m \u001b[0;36m1\u001b[0m\u001b[0;34m)\u001b[0m\u001b[0;34m\u001b[0m\u001b[0m\n\u001b[0m\u001b[1;32m      3\u001b[0m \u001b[0;32mprint\u001b[0m \u001b[0mCf\u001b[0m\u001b[0;34m\u001b[0m\u001b[0m\n",
      "\u001b[0;32m/Users/gardner49/Documents/Other/Stanford/CS224W/PROJECT/env/lib/python2.7/site-packages/snap.pyc\u001b[0m in \u001b[0;36mGetClustCf\u001b[0;34m(tspec, *args)\u001b[0m\n\u001b[1;32m 247638\u001b[0m     \u001b[0;32mif\u001b[0m \u001b[0mtype\u001b[0m\u001b[0;34m(\u001b[0m\u001b[0mtspec\u001b[0m\u001b[0;34m)\u001b[0m \u001b[0;34m==\u001b[0m \u001b[0mPUndirNet\u001b[0m\u001b[0;34m:\u001b[0m \u001b[0;32mreturn\u001b[0m \u001b[0mGetClustCf_PUndirNet\u001b[0m\u001b[0;34m(\u001b[0m\u001b[0mtspec\u001b[0m\u001b[0;34m,\u001b[0m \u001b[0;34m*\u001b[0m\u001b[0margs\u001b[0m\u001b[0;34m)\u001b[0m\u001b[0;34m\u001b[0m\u001b[0m\n\u001b[1;32m 247639\u001b[0m     \u001b[0;32mif\u001b[0m \u001b[0mtype\u001b[0m\u001b[0;34m(\u001b[0m\u001b[0mtspec\u001b[0m\u001b[0;34m)\u001b[0m \u001b[0;34m==\u001b[0m \u001b[0mPDirNet\u001b[0m\u001b[0;34m:\u001b[0m \u001b[0;32mreturn\u001b[0m \u001b[0mGetClustCf_PDirNet\u001b[0m\u001b[0;34m(\u001b[0m\u001b[0mtspec\u001b[0m\u001b[0;34m,\u001b[0m \u001b[0;34m*\u001b[0m\u001b[0margs\u001b[0m\u001b[0;34m)\u001b[0m\u001b[0;34m\u001b[0m\u001b[0m\n\u001b[0;32m>247640\u001b[0;31m     \u001b[0;32mif\u001b[0m \u001b[0mtype\u001b[0m\u001b[0;34m(\u001b[0m\u001b[0mtspec\u001b[0m\u001b[0;34m)\u001b[0m \u001b[0;34m==\u001b[0m \u001b[0mPNGraph\u001b[0m \u001b[0;34m:\u001b[0m \u001b[0;32mreturn\u001b[0m \u001b[0mGetClustCf_PNGraph\u001b[0m\u001b[0;34m(\u001b[0m\u001b[0mtspec\u001b[0m\u001b[0;34m,\u001b[0m \u001b[0;34m*\u001b[0m\u001b[0margs\u001b[0m\u001b[0;34m)\u001b[0m\u001b[0;34m\u001b[0m\u001b[0m\n\u001b[0m\u001b[1;32m 247641\u001b[0m     \u001b[0;32mif\u001b[0m \u001b[0mtype\u001b[0m\u001b[0;34m(\u001b[0m\u001b[0mtspec\u001b[0m\u001b[0;34m)\u001b[0m \u001b[0;34m==\u001b[0m \u001b[0mPNEANet\u001b[0m \u001b[0;34m:\u001b[0m \u001b[0;32mreturn\u001b[0m \u001b[0mGetClustCf_PNEANet\u001b[0m\u001b[0;34m(\u001b[0m\u001b[0mtspec\u001b[0m\u001b[0;34m,\u001b[0m \u001b[0;34m*\u001b[0m\u001b[0margs\u001b[0m\u001b[0;34m)\u001b[0m\u001b[0;34m\u001b[0m\u001b[0m\n\u001b[1;32m 247642\u001b[0m     \u001b[0;32mif\u001b[0m \u001b[0mtype\u001b[0m\u001b[0;34m(\u001b[0m\u001b[0mtspec\u001b[0m\u001b[0;34m)\u001b[0m \u001b[0;34m==\u001b[0m \u001b[0mPNGraphMP\u001b[0m\u001b[0;34m:\u001b[0m \u001b[0;32mreturn\u001b[0m \u001b[0mGetClustCf_PNGraphMP\u001b[0m\u001b[0;34m(\u001b[0m\u001b[0mtspec\u001b[0m\u001b[0;34m,\u001b[0m \u001b[0;34m*\u001b[0m\u001b[0margs\u001b[0m\u001b[0;34m)\u001b[0m\u001b[0;34m\u001b[0m\u001b[0m\n",
      "\u001b[0;32m/Users/gardner49/Documents/Other/Stanford/CS224W/PROJECT/env/lib/python2.7/site-packages/snap.pyc\u001b[0m in \u001b[0;36mGetClustCf_PNGraph\u001b[0;34m(*args)\u001b[0m\n\u001b[1;32m 236147\u001b[0m \u001b[0;34m\u001b[0m\u001b[0m\n\u001b[1;32m 236148\u001b[0m     \"\"\"\n\u001b[0;32m>236149\u001b[0;31m     \u001b[0;32mreturn\u001b[0m \u001b[0m_snap\u001b[0m\u001b[0;34m.\u001b[0m\u001b[0mGetClustCf_PNGraph\u001b[0m\u001b[0;34m(\u001b[0m\u001b[0;34m*\u001b[0m\u001b[0margs\u001b[0m\u001b[0;34m)\u001b[0m\u001b[0;34m\u001b[0m\u001b[0m\n\u001b[0m\u001b[1;32m 236150\u001b[0m \u001b[0;34m\u001b[0m\u001b[0m\n\u001b[1;32m 236151\u001b[0m \u001b[0;32mdef\u001b[0m \u001b[0mGetClustCfAll_PNGraph\u001b[0m\u001b[0;34m(\u001b[0m\u001b[0mGraph\u001b[0m\u001b[0;34m,\u001b[0m \u001b[0mDegToCCfV\u001b[0m\u001b[0;34m,\u001b[0m \u001b[0mSampleNodes\u001b[0m\u001b[0;34m=\u001b[0m\u001b[0;34m-\u001b[0m\u001b[0;36m1\u001b[0m\u001b[0;34m)\u001b[0m\u001b[0;34m:\u001b[0m\u001b[0;34m\u001b[0m\u001b[0m\n",
      "\u001b[0;31mRuntimeError\u001b[0m: Execution stopped: (0<=ValN)&&(ValN<Vals) [Reason:'Index:-347110296 Vals:2140576379 MxVals:2140576379 Type:4TVecIS_I4TIntiEiE'], file ../../snap/glib-core/ds.h, line 491"
     ]
    }
   ],
   "source": [
    "Cf = snap.GetClustCf(G, 1)\n",
    "print Cf"
   ]
  },
  {
   "cell_type": "code",
   "execution_count": 12,
   "metadata": {},
   "outputs": [
    {
     "name": "stdout",
     "output_type": "stream",
     "text": [
      "1\n"
     ]
    }
   ],
   "source": [
    "print snap.CntSelfEdges(G)"
   ]
  },
  {
   "cell_type": "code",
   "execution_count": 9,
   "metadata": {},
   "outputs": [
    {
     "name": "stdout",
     "output_type": "stream",
     "text": [
      "85786\n",
      "127552\n"
     ]
    }
   ],
   "source": [
    "import snap\n",
    "import pandas as pd\n",
    "\n",
    "df_xwalk = pd.read_csv('./ca_xwalk.csv')\n",
    "bay_counties = ['San Francisco County, CA', 'Marin County, CA', 'Alameda County, CA', 'Santa Clara County, CA', 'Contra Costa County, CA', 'San Mateo County, CA']\n",
    "outer_counties = bay_counties + ['Sonoma County, CA', 'San Joaquin County, CA', 'Napa County, CA', 'Santa Cruz County, CA', 'Solano County, CA']\n",
    "df_bay_outer = df_xwalk.loc[df_xwalk['ctyname'].isin(outer_counties)]\n",
    "df_bay = df_xwalk.loc[df_xwalk['ctyname'].isin(bay_counties)]\n",
    "print len(df_bay.index)\n",
    "print len(df_bay_outer.index)\n",
    "\n",
    "\n",
    "years = [2002, 2003, 2004, 2005, 2006, 2007, 2008, 2009, 2010, 2011, 2012, 2013, 2014, 2015]\n",
    "#filename = \n",
    "\n",
    "df_bay = df_bay[['tabblk2010', 'trct']]\n",
    "df_bay = df_bay.rename(index=str, columns={\"tabblk2010\": \"w_geocode\", \"trct\" : \"w_trct\"})\n",
    "\n",
    "df_bay_outer = df_bay_outer[['tabblk2010', 'trct']]\n",
    "df_bay_outer = df_bay_outer.rename(index=str, columns={\"tabblk2010\": \"h_geocode\", \"trct\": \"h_trct\"})\n",
    "\n",
    "for year in years:\n",
    "    df = pd.read_csv(\"./ca_od_main_JT01_\"+str(year)+\".csv\")\n",
    "\n",
    "    df_work_bay = pd.merge(df, df_bay, on='w_geocode')\n",
    "\n",
    "    df_work_bay_home_bayouter = pd.merge(df_work_bay, df_bay_outer, on='h_geocode')\n",
    "    \n",
    "    df_work_bay_home_bayouter = df_work_bay_home_bayouter[['w_geocode', 'h_geocode', 'w_trct', 'h_trct', 'S000']]\n",
    "    \n",
    "    \n",
    "    df_work_bay_home_bayouter = df_work_bay_home_bayouter[['w_trct', 'h_trct', 'S000']]\n",
    "    df_work_bay_home_bayouter = df_work_bay_home_bayouter.groupby(['w_trct', 'h_trct']).sum().reset_index()\n",
    "    \n",
    "    # new\n",
    "    df_work_bay_home_bayouter = pd.merge(df_work_bay_home_bayouter, df_lat_lon, on='w_trct')\n",
    "    df_work_bay_home_bayouter = df_work_bay_home_bayouter.rename(index=str, columns={\"lat\":\"w_lat\", \"lon\":\"w_lon\"})\n",
    "    df_lat_lon = df_lat_lon.rename(index=str, columns={\"w_trct\":\"h_trct\"})\n",
    "    df_work_bay_home_bayouter = pd.merge(df_work_bay_home_bayouter, df_lat_lon, on='h_trct')\n",
    "    df_work_bay_home_bayouter = df_work_bay_home_bayouter.rename(index=str, columns={\"lat\":\"h_lat\", \"lon\":\"h_lon\"})\n",
    "    df_lat_lon = df_lat_lon.rename(index=str, columns={\"h_trct\":\"w_trct\"})\n",
    "    \n",
    "    dist = []\n",
    "    w_lat = df_work_bay_home_bayouter['w_lat']\n",
    "    w_lon = df_work_bay_home_bayouter['w_lon']\n",
    "    h_lat = df_work_bay_home_bayouter['h_lat']\n",
    "    h_lon = df_work_bay_home_bayouter['h_lon']\n",
    "    \n",
    "    for i in range(len(w_lat)):\n",
    "        coords_1 = (w_lat[i], w_lon[i])\n",
    "        coords_2 = (h_lat[i], h_lon[i])\n",
    "        dist.append(geopy.distance.distance(coords_1, coords_2).miles) \n",
    "        \n",
    "    df_work_bay_home_bayouter['dist'] = dist\n",
    "    df_work_bay_home_bayouter = df_work_bay_home_bayouter.drop(columns=['w_lat','w_lon','h_lat','h_lon'])\n",
    "    \n",
    "    df_work_bay_home_bayouter.to_csv('bay_outer_tract_'+str(year)+'.csv',index=False)\n",
    "    df_work_bay_home_bayouter.to_csv('bay_outer_tract_'+str(year)+'.txt',index=False, header=False, sep=' ')\n",
    "    \n",
    "    census_tract_indeg_dict = {}\n",
    "\n",
    "    for index, row in df_work_bay_home_bayouter.iterrows():\n",
    "        if row['w_trct'] in census_tract_indeg_dict.keys():\n",
    "            census_tract_indeg_dict[row['w_trct']] += row['S000']\n",
    "        else:\n",
    "            census_tract_indeg_dict[row['w_trct']] = row['S000']\n",
    "\n",
    "            \n",
    "    indeg_df = pd.DataFrame.from_dict(census_tract_indeg_dict, orient='index')\n",
    "    indeg_df['w_trct'] = indeg_df.index\n",
    "    indeg_df = indeg_df.rename(index=str, columns={0: \"indeg\"})\n",
    "\n",
    "    indeg_df.to_csv('bay_outer_tract_indeg_'+str(year)+'.csv',index=False)\n",
    "\n"
   ]
  },
  {
   "cell_type": "code",
   "execution_count": 5,
   "metadata": {},
   "outputs": [
    {
     "name": "stdout",
     "output_type": "stream",
     "text": [
      "85786\n",
      "127552\n"
     ]
    }
   ],
   "source": [
    "# examine only poor people\n",
    "\n",
    "import snap\n",
    "import pandas as pd\n",
    "import geopy.distance\n",
    "\n",
    "df_xwalk = pd.read_csv('./ca_xwalk.csv')\n",
    "bay_counties = ['San Francisco County, CA', 'Marin County, CA', 'Alameda County, CA', 'Santa Clara County, CA', 'Contra Costa County, CA', 'San Mateo County, CA']\n",
    "outer_counties = bay_counties + ['Sonoma County, CA', 'San Joaquin County, CA', 'Napa County, CA', 'Santa Cruz County, CA', 'Solano County, CA']\n",
    "df_bay_outer = df_xwalk.loc[df_xwalk['ctyname'].isin(outer_counties)]\n",
    "df_bay = df_xwalk.loc[df_xwalk['ctyname'].isin(bay_counties)]\n",
    "print len(df_bay.index)\n",
    "print len(df_bay_outer.index)\n",
    "\n",
    "\n",
    "#years = [2002, 2003, 2004, 2005, 2006, 2007, 2008, 2009, 2010, 2011, 2012, 2013, 2014, 2015]\n",
    "years = [2008, 2009, 2010, 2011, 2012, 2013, 2014, 2015]\n",
    "#filename = blklatdd blklondd\n",
    "\n",
    "df_bay = df_bay[['tabblk2010', 'trct']]\n",
    "df_bay = df_bay.rename(index=str, columns={\"tabblk2010\": \"w_geocode\", \"trct\" : \"w_trct\"})\n",
    "\n",
    "df_bay_outer = df_bay_outer[['tabblk2010', 'trct']]\n",
    "df_bay_outer = df_bay_outer.rename(index=str, columns={\"tabblk2010\": \"h_geocode\", \"trct\": \"h_trct\"})\n",
    "df_lat_lon = pd.read_csv('tract_lat_lon.csv')\n",
    "\n",
    "for year in years:\n",
    "    df = pd.read_csv(\"./ca_od_main_JT01_\"+str(year)+\".csv\")\n",
    "\n",
    "    df_work_bay = pd.merge(df, df_bay, on='w_geocode')\n",
    "\n",
    "    df_work_bay_home_bayouter = pd.merge(df_work_bay, df_bay_outer, on='h_geocode')\n",
    "    \n",
    "    df_work_bay_home_bayouter = df_work_bay_home_bayouter[['w_geocode', 'h_geocode', 'w_trct', 'h_trct', 'SE01', 'SE02']]\n",
    "    df_work_bay_home_bayouter['low_income'] = df_work_bay_home_bayouter['SE01'] + df_work_bay_home_bayouter['SE02']\n",
    "    \n",
    "    df_work_bay_home_bayouter = df_work_bay_home_bayouter[['w_trct', 'h_trct', 'low_income']]\n",
    "    df_work_bay_home_bayouter = df_work_bay_home_bayouter[df_work_bay_home_bayouter.low_income != 0]\n",
    "    df_work_bay_home_bayouter = df_work_bay_home_bayouter.groupby(['w_trct', 'h_trct']).sum().reset_index()\n",
    "    \n",
    "    # new\n",
    "    df_work_bay_home_bayouter = pd.merge(df_work_bay_home_bayouter, df_lat_lon, on='w_trct')\n",
    "    df_work_bay_home_bayouter = df_work_bay_home_bayouter.rename(index=str, columns={\"lat\":\"w_lat\", \"lon\":\"w_lon\"})\n",
    "    df_lat_lon = df_lat_lon.rename(index=str, columns={\"w_trct\":\"h_trct\"})\n",
    "    df_work_bay_home_bayouter = pd.merge(df_work_bay_home_bayouter, df_lat_lon, on='h_trct')\n",
    "    df_work_bay_home_bayouter = df_work_bay_home_bayouter.rename(index=str, columns={\"lat\":\"h_lat\", \"lon\":\"h_lon\"})\n",
    "    df_lat_lon = df_lat_lon.rename(index=str, columns={\"h_trct\":\"w_trct\"})\n",
    "    \n",
    "    dist = []\n",
    "    w_lat = df_work_bay_home_bayouter['w_lat']\n",
    "    w_lon = df_work_bay_home_bayouter['w_lon']\n",
    "    h_lat = df_work_bay_home_bayouter['h_lat']\n",
    "    h_lon = df_work_bay_home_bayouter['h_lon']\n",
    "    for i in range(len(w_lat)):\n",
    "        coords_1 = (w_lat[i], w_lon[i])\n",
    "        coords_2 = (h_lat[i], h_lon[i])\n",
    "        dist.append(geopy.distance.distance(coords_1, coords_2).miles) \n",
    "        \n",
    "    df_work_bay_home_bayouter['dist'] = dist\n",
    "    df_work_bay_home_bayouter = df_work_bay_home_bayouter.drop(columns=['w_lat','w_lon','h_lat','h_lon'])\n",
    "    \n",
    "    df_work_bay_home_bayouter.to_csv('bay_outer_tract_'+str(year)+'_poor.csv',index=False)\n",
    "    df_work_bay_home_bayouter.to_csv('bay_outer_tract_'+str(year)+'_poor.txt',index=False, header=False, sep=' ')\n",
    "    \n",
    "    census_tract_indeg_dict = {}\n",
    "\n",
    "    for index, row in df_work_bay_home_bayouter.iterrows():\n",
    "        if row['w_trct'] in census_tract_indeg_dict.keys():\n",
    "            census_tract_indeg_dict[row['w_trct']] += row['low_income']\n",
    "        else:\n",
    "            census_tract_indeg_dict[row['w_trct']] = row['low_income']\n",
    "#         if index % 100000 == 0:\n",
    "#             print index\n",
    "            \n",
    "    indeg_df = pd.DataFrame.from_dict(census_tract_indeg_dict, orient='index')\n",
    "    indeg_df['w_trct'] = indeg_df.index\n",
    "    indeg_df = indeg_df.rename(index=str, columns={0: \"indeg\"})\n",
    "\n",
    "    indeg_df.to_csv('bay_outer_tract_indeg_'+str(year)+'_poor.csv',index=False)\n",
    "\n"
   ]
  },
  {
   "cell_type": "code",
   "execution_count": 6,
   "metadata": {},
   "outputs": [
    {
     "name": "stdout",
     "output_type": "stream",
     "text": [
      "85786\n",
      "127552\n"
     ]
    }
   ],
   "source": [
    "# examine only rich people\n",
    "\n",
    "import snap\n",
    "import pandas as pd\n",
    "import geopy.distance\n",
    "\n",
    "df_xwalk = pd.read_csv('./ca_xwalk.csv')\n",
    "bay_counties = ['San Francisco County, CA', 'Marin County, CA', 'Alameda County, CA', 'Santa Clara County, CA', 'Contra Costa County, CA', 'San Mateo County, CA']\n",
    "outer_counties = bay_counties + ['Sonoma County, CA', 'San Joaquin County, CA', 'Napa County, CA', 'Santa Cruz County, CA', 'Solano County, CA']\n",
    "df_bay_outer = df_xwalk.loc[df_xwalk['ctyname'].isin(outer_counties)]\n",
    "df_bay = df_xwalk.loc[df_xwalk['ctyname'].isin(bay_counties)]\n",
    "print len(df_bay.index)\n",
    "print len(df_bay_outer.index)\n",
    "\n",
    "\n",
    "years = [2002, 2003, 2004, 2005, 2006, 2007, 2008, 2009, 2010, 2011, 2012, 2013, 2014, 2015]\n",
    "#years = [2008, 2009, 2010, 2011, 2012, 2013, 2014, 2015]\n",
    "#filename = blklatdd blklondd\n",
    "\n",
    "df_bay = df_bay[['tabblk2010', 'trct']]\n",
    "df_bay = df_bay.rename(index=str, columns={\"tabblk2010\": \"w_geocode\", \"trct\" : \"w_trct\"})\n",
    "\n",
    "df_bay_outer = df_bay_outer[['tabblk2010', 'trct']]\n",
    "df_bay_outer = df_bay_outer.rename(index=str, columns={\"tabblk2010\": \"h_geocode\", \"trct\": \"h_trct\"})\n",
    "df_lat_lon = pd.read_csv('tract_lat_lon.csv')\n",
    "\n",
    "for year in years:\n",
    "    df = pd.read_csv(\"./ca_od_main_JT01_\"+str(year)+\".csv\")\n",
    "\n",
    "    df_work_bay = pd.merge(df, df_bay, on='w_geocode')\n",
    "\n",
    "    df_work_bay_home_bayouter = pd.merge(df_work_bay, df_bay_outer, on='h_geocode')\n",
    "    \n",
    "    df_work_bay_home_bayouter = df_work_bay_home_bayouter[['w_geocode', 'h_geocode', 'w_trct', 'h_trct', 'SE03']]\n",
    "    \n",
    "    df_work_bay_home_bayouter = df_work_bay_home_bayouter[['w_trct', 'h_trct', 'SE03']]\n",
    "    df_work_bay_home_bayouter = df_work_bay_home_bayouter[df_work_bay_home_bayouter.SE03 != 0]\n",
    "    df_work_bay_home_bayouter = df_work_bay_home_bayouter.groupby(['w_trct', 'h_trct']).sum().reset_index()\n",
    "    \n",
    "    # new\n",
    "    df_work_bay_home_bayouter = pd.merge(df_work_bay_home_bayouter, df_lat_lon, on='w_trct')\n",
    "    df_work_bay_home_bayouter = df_work_bay_home_bayouter.rename(index=str, columns={\"lat\":\"w_lat\", \"lon\":\"w_lon\"})\n",
    "    df_lat_lon = df_lat_lon.rename(index=str, columns={\"w_trct\":\"h_trct\"})\n",
    "    df_work_bay_home_bayouter = pd.merge(df_work_bay_home_bayouter, df_lat_lon, on='h_trct')\n",
    "    df_work_bay_home_bayouter = df_work_bay_home_bayouter.rename(index=str, columns={\"lat\":\"h_lat\", \"lon\":\"h_lon\"})\n",
    "    df_lat_lon = df_lat_lon.rename(index=str, columns={\"h_trct\":\"w_trct\"})\n",
    "    \n",
    "    dist = []\n",
    "    w_lat = df_work_bay_home_bayouter['w_lat']\n",
    "    w_lon = df_work_bay_home_bayouter['w_lon']\n",
    "    h_lat = df_work_bay_home_bayouter['h_lat']\n",
    "    h_lon = df_work_bay_home_bayouter['h_lon']\n",
    "    for i in range(len(w_lat)):\n",
    "        coords_1 = (w_lat[i], w_lon[i])\n",
    "        coords_2 = (h_lat[i], h_lon[i])\n",
    "        dist.append(geopy.distance.distance(coords_1, coords_2).miles) \n",
    "        \n",
    "    df_work_bay_home_bayouter['dist'] = dist\n",
    "    df_work_bay_home_bayouter = df_work_bay_home_bayouter.drop(columns=['w_lat','w_lon','h_lat','h_lon'])\n",
    "    \n",
    "    df_work_bay_home_bayouter.to_csv('bay_outer_tract_rich_'+str(year)+'.csv',index=False)\n",
    "    df_work_bay_home_bayouter.to_csv('bay_outer_tract_rich_'+str(year)+'.txt',index=False, header=False, sep=' ')\n",
    "    \n",
    "    census_tract_indeg_dict = {}\n",
    "\n",
    "    for index, row in df_work_bay_home_bayouter.iterrows():\n",
    "        if row['w_trct'] in census_tract_indeg_dict.keys():\n",
    "            census_tract_indeg_dict[row['w_trct']] += row['SE03']\n",
    "        else:\n",
    "            census_tract_indeg_dict[row['w_trct']] = row['SE03']\n",
    "#         if index % 100000 == 0:\n",
    "#             print index\n",
    "            \n",
    "    indeg_df = pd.DataFrame.from_dict(census_tract_indeg_dict, orient='index')\n",
    "    indeg_df['w_trct'] = indeg_df.index\n",
    "    indeg_df = indeg_df.rename(index=str, columns={0: \"indeg\"})\n",
    "\n",
    "    indeg_df.to_csv('bay_outer_tract_indeg_rich_'+str(year)+'.csv',index=False)\n",
    "\n"
   ]
  },
  {
   "cell_type": "code",
   "execution_count": 11,
   "metadata": {},
   "outputs": [
    {
     "name": "stdout",
     "output_type": "stream",
     "text": [
      "85786\n",
      "127552\n"
     ]
    }
   ],
   "source": [
    "# examine only workers under 30\n",
    "\n",
    "import snap\n",
    "import pandas as pd\n",
    "import geopy.distance\n",
    "\n",
    "df_xwalk = pd.read_csv('./ca_xwalk.csv')\n",
    "bay_counties = ['San Francisco County, CA', 'Marin County, CA', 'Alameda County, CA', 'Santa Clara County, CA', 'Contra Costa County, CA', 'San Mateo County, CA']\n",
    "outer_counties = bay_counties + ['Sonoma County, CA', 'San Joaquin County, CA', 'Napa County, CA', 'Santa Cruz County, CA', 'Solano County, CA']\n",
    "df_bay_outer = df_xwalk.loc[df_xwalk['ctyname'].isin(outer_counties)]\n",
    "df_bay = df_xwalk.loc[df_xwalk['ctyname'].isin(bay_counties)]\n",
    "print len(df_bay.index)\n",
    "print len(df_bay_outer.index)\n",
    "\n",
    "\n",
    "years = [2002, 2003, 2004, 2005, 2006, 2007, 2008, 2009, 2010, 2011, 2012, 2013, 2014, 2015]\n",
    "#years = [2008, 2009, 2010, 2011, 2012, 2013, 2014, 2015]\n",
    "#filename = blklatdd blklondd\n",
    "\n",
    "df_bay = df_bay[['tabblk2010', 'trct']]\n",
    "df_bay = df_bay.rename(index=str, columns={\"tabblk2010\": \"w_geocode\", \"trct\" : \"w_trct\"})\n",
    "\n",
    "df_bay_outer = df_bay_outer[['tabblk2010', 'trct']]\n",
    "df_bay_outer = df_bay_outer.rename(index=str, columns={\"tabblk2010\": \"h_geocode\", \"trct\": \"h_trct\"})\n",
    "df_lat_lon = pd.read_csv('tract_lat_lon.csv')\n",
    "\n",
    "for year in years:\n",
    "    df = pd.read_csv(\"./ca_od_main_JT01_\"+str(year)+\".csv\")\n",
    "\n",
    "    df_work_bay = pd.merge(df, df_bay, on='w_geocode')\n",
    "\n",
    "    df_work_bay_home_bayouter = pd.merge(df_work_bay, df_bay_outer, on='h_geocode')\n",
    "    \n",
    "    df_work_bay_home_bayouter = df_work_bay_home_bayouter[['w_geocode', 'h_geocode', 'w_trct', 'h_trct', 'SA01']]\n",
    "    \n",
    "    df_work_bay_home_bayouter = df_work_bay_home_bayouter[['w_trct', 'h_trct', 'SA01']]\n",
    "    df_work_bay_home_bayouter = df_work_bay_home_bayouter[df_work_bay_home_bayouter.SA01 != 0]\n",
    "    df_work_bay_home_bayouter = df_work_bay_home_bayouter.groupby(['w_trct', 'h_trct']).sum().reset_index()\n",
    "    \n",
    "    # new\n",
    "    df_work_bay_home_bayouter = pd.merge(df_work_bay_home_bayouter, df_lat_lon, on='w_trct')\n",
    "    df_work_bay_home_bayouter = df_work_bay_home_bayouter.rename(index=str, columns={\"lat\":\"w_lat\", \"lon\":\"w_lon\"})\n",
    "    df_lat_lon = df_lat_lon.rename(index=str, columns={\"w_trct\":\"h_trct\"})\n",
    "    df_work_bay_home_bayouter = pd.merge(df_work_bay_home_bayouter, df_lat_lon, on='h_trct')\n",
    "    df_work_bay_home_bayouter = df_work_bay_home_bayouter.rename(index=str, columns={\"lat\":\"h_lat\", \"lon\":\"h_lon\"})\n",
    "    df_lat_lon = df_lat_lon.rename(index=str, columns={\"h_trct\":\"w_trct\"})\n",
    "    \n",
    "    dist = []\n",
    "    w_lat = df_work_bay_home_bayouter['w_lat']\n",
    "    w_lon = df_work_bay_home_bayouter['w_lon']\n",
    "    h_lat = df_work_bay_home_bayouter['h_lat']\n",
    "    h_lon = df_work_bay_home_bayouter['h_lon']\n",
    "    for i in range(len(w_lat)):\n",
    "        coords_1 = (w_lat[i], w_lon[i])\n",
    "        coords_2 = (h_lat[i], h_lon[i])\n",
    "        dist.append(geopy.distance.distance(coords_1, coords_2).miles) \n",
    "        \n",
    "    df_work_bay_home_bayouter['dist'] = dist\n",
    "    df_work_bay_home_bayouter = df_work_bay_home_bayouter.drop(columns=['w_lat','w_lon','h_lat','h_lon'])\n",
    "    \n",
    "    df_work_bay_home_bayouter.to_csv('bay_outer_tract_young_'+str(year)+'.csv',index=False)\n",
    "    df_work_bay_home_bayouter.to_csv('bay_outer_tract_young_'+str(year)+'.txt',index=False, header=False, sep=' ')\n",
    "    \n",
    "    continue\n",
    "    census_tract_indeg_dict = {}\n",
    "\n",
    "    for index, row in df_work_bay_home_bayouter.iterrows():\n",
    "        if row['w_trct'] in census_tract_indeg_dict.keys():\n",
    "            census_tract_indeg_dict[row['w_trct']] += row['SA01']\n",
    "        else:\n",
    "            census_tract_indeg_dict[row['w_trct']] = row['SA01']\n",
    "#         if index % 100000 == 0:\n",
    "#             print index\n",
    "            \n",
    "    indeg_df = pd.DataFrame.from_dict(census_tract_indeg_dict, orient='index')\n",
    "    indeg_df['w_trct'] = indeg_df.index\n",
    "    indeg_df = indeg_df.rename(index=str, columns={0: \"indeg\"})\n",
    "\n",
    "    indeg_df.to_csv('bay_outer_tract_indeg_rich_'+str(year)+'.csv',index=False)"
   ]
  },
  {
   "cell_type": "code",
   "execution_count": 12,
   "metadata": {},
   "outputs": [
    {
     "name": "stdout",
     "output_type": "stream",
     "text": [
      "85786\n",
      "127552\n"
     ]
    }
   ],
   "source": [
    "# examine only workers over 55\n",
    "\n",
    "import snap\n",
    "import pandas as pd\n",
    "import geopy.distance\n",
    "\n",
    "df_xwalk = pd.read_csv('./ca_xwalk.csv')\n",
    "bay_counties = ['San Francisco County, CA', 'Marin County, CA', 'Alameda County, CA', 'Santa Clara County, CA', 'Contra Costa County, CA', 'San Mateo County, CA']\n",
    "outer_counties = bay_counties + ['Sonoma County, CA', 'San Joaquin County, CA', 'Napa County, CA', 'Santa Cruz County, CA', 'Solano County, CA']\n",
    "df_bay_outer = df_xwalk.loc[df_xwalk['ctyname'].isin(outer_counties)]\n",
    "df_bay = df_xwalk.loc[df_xwalk['ctyname'].isin(bay_counties)]\n",
    "print len(df_bay.index)\n",
    "print len(df_bay_outer.index)\n",
    "\n",
    "\n",
    "years = [2002, 2003, 2004, 2005, 2006, 2007, 2008, 2009, 2010, 2011, 2012, 2013, 2014, 2015]\n",
    "#years = [2008, 2009, 2010, 2011, 2012, 2013, 2014, 2015]\n",
    "#filename = blklatdd blklondd\n",
    "\n",
    "df_bay = df_bay[['tabblk2010', 'trct']]\n",
    "df_bay = df_bay.rename(index=str, columns={\"tabblk2010\": \"w_geocode\", \"trct\" : \"w_trct\"})\n",
    "\n",
    "df_bay_outer = df_bay_outer[['tabblk2010', 'trct']]\n",
    "df_bay_outer = df_bay_outer.rename(index=str, columns={\"tabblk2010\": \"h_geocode\", \"trct\": \"h_trct\"})\n",
    "df_lat_lon = pd.read_csv('tract_lat_lon.csv')\n",
    "\n",
    "for year in years:\n",
    "    df = pd.read_csv(\"./ca_od_main_JT01_\"+str(year)+\".csv\")\n",
    "\n",
    "    df_work_bay = pd.merge(df, df_bay, on='w_geocode')\n",
    "\n",
    "    df_work_bay_home_bayouter = pd.merge(df_work_bay, df_bay_outer, on='h_geocode')\n",
    "    \n",
    "    df_work_bay_home_bayouter = df_work_bay_home_bayouter[['w_geocode', 'h_geocode', 'w_trct', 'h_trct', 'SA03']]\n",
    "    \n",
    "    df_work_bay_home_bayouter = df_work_bay_home_bayouter[['w_trct', 'h_trct', 'SA03']]\n",
    "    df_work_bay_home_bayouter = df_work_bay_home_bayouter[df_work_bay_home_bayouter.SA03 != 0]\n",
    "    df_work_bay_home_bayouter = df_work_bay_home_bayouter.groupby(['w_trct', 'h_trct']).sum().reset_index()\n",
    "    \n",
    "    # new\n",
    "    df_work_bay_home_bayouter = pd.merge(df_work_bay_home_bayouter, df_lat_lon, on='w_trct')\n",
    "    df_work_bay_home_bayouter = df_work_bay_home_bayouter.rename(index=str, columns={\"lat\":\"w_lat\", \"lon\":\"w_lon\"})\n",
    "    df_lat_lon = df_lat_lon.rename(index=str, columns={\"w_trct\":\"h_trct\"})\n",
    "    df_work_bay_home_bayouter = pd.merge(df_work_bay_home_bayouter, df_lat_lon, on='h_trct')\n",
    "    df_work_bay_home_bayouter = df_work_bay_home_bayouter.rename(index=str, columns={\"lat\":\"h_lat\", \"lon\":\"h_lon\"})\n",
    "    df_lat_lon = df_lat_lon.rename(index=str, columns={\"h_trct\":\"w_trct\"})\n",
    "    \n",
    "    dist = []\n",
    "    w_lat = df_work_bay_home_bayouter['w_lat']\n",
    "    w_lon = df_work_bay_home_bayouter['w_lon']\n",
    "    h_lat = df_work_bay_home_bayouter['h_lat']\n",
    "    h_lon = df_work_bay_home_bayouter['h_lon']\n",
    "    for i in range(len(w_lat)):\n",
    "        coords_1 = (w_lat[i], w_lon[i])\n",
    "        coords_2 = (h_lat[i], h_lon[i])\n",
    "        dist.append(geopy.distance.distance(coords_1, coords_2).miles) \n",
    "        \n",
    "    df_work_bay_home_bayouter['dist'] = dist\n",
    "    df_work_bay_home_bayouter = df_work_bay_home_bayouter.drop(columns=['w_lat','w_lon','h_lat','h_lon'])\n",
    "    \n",
    "    df_work_bay_home_bayouter.to_csv('bay_outer_tract_old_'+str(year)+'.csv',index=False)\n",
    "    df_work_bay_home_bayouter.to_csv('bay_outer_tract_old_'+str(year)+'.txt',index=False, header=False, sep=' ')\n",
    "    \n",
    "    continue\n",
    "    census_tract_indeg_dict = {}\n",
    "\n",
    "    for index, row in df_work_bay_home_bayouter.iterrows():\n",
    "        if row['w_trct'] in census_tract_indeg_dict.keys():\n",
    "            census_tract_indeg_dict[row['w_trct']] += row['SA03']\n",
    "        else:\n",
    "            census_tract_indeg_dict[row['w_trct']] = row['SA03']\n",
    "#         if index % 100000 == 0:\n",
    "#             print index\n",
    "            \n",
    "    indeg_df = pd.DataFrame.from_dict(census_tract_indeg_dict, orient='index')\n",
    "    indeg_df['w_trct'] = indeg_df.index\n",
    "    indeg_df = indeg_df.rename(index=str, columns={0: \"indeg\"})\n",
    "\n",
    "    indeg_df.to_csv('bay_outer_tract_indeg_rich_'+str(year)+'.csv',index=False)"
   ]
  },
  {
   "cell_type": "code",
   "execution_count": 13,
   "metadata": {},
   "outputs": [
    {
     "name": "stdout",
     "output_type": "stream",
     "text": [
      "85786\n",
      "127552\n"
     ]
    },
    {
     "ename": "KeyError",
     "evalue": "\"['CS02'] not in index\"",
     "output_type": "error",
     "traceback": [
      "\u001b[0;31m---------------------------------------------------------------------------\u001b[0m",
      "\u001b[0;31mKeyError\u001b[0m                                  Traceback (most recent call last)",
      "\u001b[0;32m<ipython-input-13-c7ba7c5cf5a1>\u001b[0m in \u001b[0;36m<module>\u001b[0;34m()\u001b[0m\n\u001b[1;32m     32\u001b[0m     \u001b[0mdf_work_bay_home_bayouter\u001b[0m \u001b[0;34m=\u001b[0m \u001b[0mpd\u001b[0m\u001b[0;34m.\u001b[0m\u001b[0mmerge\u001b[0m\u001b[0;34m(\u001b[0m\u001b[0mdf_work_bay\u001b[0m\u001b[0;34m,\u001b[0m \u001b[0mdf_bay_outer\u001b[0m\u001b[0;34m,\u001b[0m \u001b[0mon\u001b[0m\u001b[0;34m=\u001b[0m\u001b[0;34m'h_geocode'\u001b[0m\u001b[0;34m)\u001b[0m\u001b[0;34m\u001b[0m\u001b[0m\n\u001b[1;32m     33\u001b[0m \u001b[0;34m\u001b[0m\u001b[0m\n\u001b[0;32m---> 34\u001b[0;31m     \u001b[0mdf_work_bay_home_bayouter\u001b[0m \u001b[0;34m=\u001b[0m \u001b[0mdf_work_bay_home_bayouter\u001b[0m\u001b[0;34m[\u001b[0m\u001b[0;34m[\u001b[0m\u001b[0;34m'w_geocode'\u001b[0m\u001b[0;34m,\u001b[0m \u001b[0;34m'h_geocode'\u001b[0m\u001b[0;34m,\u001b[0m \u001b[0;34m'w_trct'\u001b[0m\u001b[0;34m,\u001b[0m \u001b[0;34m'h_trct'\u001b[0m\u001b[0;34m,\u001b[0m \u001b[0;34m'CS02'\u001b[0m\u001b[0;34m]\u001b[0m\u001b[0;34m]\u001b[0m\u001b[0;34m\u001b[0m\u001b[0m\n\u001b[0m\u001b[1;32m     35\u001b[0m \u001b[0;34m\u001b[0m\u001b[0m\n\u001b[1;32m     36\u001b[0m     \u001b[0mdf_work_bay_home_bayouter\u001b[0m \u001b[0;34m=\u001b[0m \u001b[0mdf_work_bay_home_bayouter\u001b[0m\u001b[0;34m[\u001b[0m\u001b[0;34m[\u001b[0m\u001b[0;34m'w_trct'\u001b[0m\u001b[0;34m,\u001b[0m \u001b[0;34m'h_trct'\u001b[0m\u001b[0;34m,\u001b[0m \u001b[0;34m'CS02'\u001b[0m\u001b[0;34m]\u001b[0m\u001b[0;34m]\u001b[0m\u001b[0;34m\u001b[0m\u001b[0m\n",
      "\u001b[0;32m/Users/gardner49/Documents/Other/Stanford/CS224W/PROJECT/env/lib/python2.7/site-packages/pandas/core/frame.pyc\u001b[0m in \u001b[0;36m__getitem__\u001b[0;34m(self, key)\u001b[0m\n\u001b[1;32m   2680\u001b[0m         \u001b[0;32mif\u001b[0m \u001b[0misinstance\u001b[0m\u001b[0;34m(\u001b[0m\u001b[0mkey\u001b[0m\u001b[0;34m,\u001b[0m \u001b[0;34m(\u001b[0m\u001b[0mSeries\u001b[0m\u001b[0;34m,\u001b[0m \u001b[0mnp\u001b[0m\u001b[0;34m.\u001b[0m\u001b[0mndarray\u001b[0m\u001b[0;34m,\u001b[0m \u001b[0mIndex\u001b[0m\u001b[0;34m,\u001b[0m \u001b[0mlist\u001b[0m\u001b[0;34m)\u001b[0m\u001b[0;34m)\u001b[0m\u001b[0;34m:\u001b[0m\u001b[0;34m\u001b[0m\u001b[0m\n\u001b[1;32m   2681\u001b[0m             \u001b[0;31m# either boolean or fancy integer index\u001b[0m\u001b[0;34m\u001b[0m\u001b[0;34m\u001b[0m\u001b[0m\n\u001b[0;32m-> 2682\u001b[0;31m             \u001b[0;32mreturn\u001b[0m \u001b[0mself\u001b[0m\u001b[0;34m.\u001b[0m\u001b[0m_getitem_array\u001b[0m\u001b[0;34m(\u001b[0m\u001b[0mkey\u001b[0m\u001b[0;34m)\u001b[0m\u001b[0;34m\u001b[0m\u001b[0m\n\u001b[0m\u001b[1;32m   2683\u001b[0m         \u001b[0;32melif\u001b[0m \u001b[0misinstance\u001b[0m\u001b[0;34m(\u001b[0m\u001b[0mkey\u001b[0m\u001b[0;34m,\u001b[0m \u001b[0mDataFrame\u001b[0m\u001b[0;34m)\u001b[0m\u001b[0;34m:\u001b[0m\u001b[0;34m\u001b[0m\u001b[0m\n\u001b[1;32m   2684\u001b[0m             \u001b[0;32mreturn\u001b[0m \u001b[0mself\u001b[0m\u001b[0;34m.\u001b[0m\u001b[0m_getitem_frame\u001b[0m\u001b[0;34m(\u001b[0m\u001b[0mkey\u001b[0m\u001b[0;34m)\u001b[0m\u001b[0;34m\u001b[0m\u001b[0m\n",
      "\u001b[0;32m/Users/gardner49/Documents/Other/Stanford/CS224W/PROJECT/env/lib/python2.7/site-packages/pandas/core/frame.pyc\u001b[0m in \u001b[0;36m_getitem_array\u001b[0;34m(self, key)\u001b[0m\n\u001b[1;32m   2724\u001b[0m             \u001b[0;32mreturn\u001b[0m \u001b[0mself\u001b[0m\u001b[0;34m.\u001b[0m\u001b[0m_take\u001b[0m\u001b[0;34m(\u001b[0m\u001b[0mindexer\u001b[0m\u001b[0;34m,\u001b[0m \u001b[0maxis\u001b[0m\u001b[0;34m=\u001b[0m\u001b[0;36m0\u001b[0m\u001b[0;34m)\u001b[0m\u001b[0;34m\u001b[0m\u001b[0m\n\u001b[1;32m   2725\u001b[0m         \u001b[0;32melse\u001b[0m\u001b[0;34m:\u001b[0m\u001b[0;34m\u001b[0m\u001b[0m\n\u001b[0;32m-> 2726\u001b[0;31m             \u001b[0mindexer\u001b[0m \u001b[0;34m=\u001b[0m \u001b[0mself\u001b[0m\u001b[0;34m.\u001b[0m\u001b[0mloc\u001b[0m\u001b[0;34m.\u001b[0m\u001b[0m_convert_to_indexer\u001b[0m\u001b[0;34m(\u001b[0m\u001b[0mkey\u001b[0m\u001b[0;34m,\u001b[0m \u001b[0maxis\u001b[0m\u001b[0;34m=\u001b[0m\u001b[0;36m1\u001b[0m\u001b[0;34m)\u001b[0m\u001b[0;34m\u001b[0m\u001b[0m\n\u001b[0m\u001b[1;32m   2727\u001b[0m             \u001b[0;32mreturn\u001b[0m \u001b[0mself\u001b[0m\u001b[0;34m.\u001b[0m\u001b[0m_take\u001b[0m\u001b[0;34m(\u001b[0m\u001b[0mindexer\u001b[0m\u001b[0;34m,\u001b[0m \u001b[0maxis\u001b[0m\u001b[0;34m=\u001b[0m\u001b[0;36m1\u001b[0m\u001b[0;34m)\u001b[0m\u001b[0;34m\u001b[0m\u001b[0m\n\u001b[1;32m   2728\u001b[0m \u001b[0;34m\u001b[0m\u001b[0m\n",
      "\u001b[0;32m/Users/gardner49/Documents/Other/Stanford/CS224W/PROJECT/env/lib/python2.7/site-packages/pandas/core/indexing.pyc\u001b[0m in \u001b[0;36m_convert_to_indexer\u001b[0;34m(self, obj, axis, is_setter)\u001b[0m\n\u001b[1;32m   1325\u001b[0m                 \u001b[0;32mif\u001b[0m \u001b[0mmask\u001b[0m\u001b[0;34m.\u001b[0m\u001b[0many\u001b[0m\u001b[0;34m(\u001b[0m\u001b[0;34m)\u001b[0m\u001b[0;34m:\u001b[0m\u001b[0;34m\u001b[0m\u001b[0m\n\u001b[1;32m   1326\u001b[0m                     raise KeyError('{mask} not in index'\n\u001b[0;32m-> 1327\u001b[0;31m                                    .format(mask=objarr[mask]))\n\u001b[0m\u001b[1;32m   1328\u001b[0m \u001b[0;34m\u001b[0m\u001b[0m\n\u001b[1;32m   1329\u001b[0m                 \u001b[0;32mreturn\u001b[0m \u001b[0mcom\u001b[0m\u001b[0;34m.\u001b[0m\u001b[0m_values_from_object\u001b[0m\u001b[0;34m(\u001b[0m\u001b[0mindexer\u001b[0m\u001b[0;34m)\u001b[0m\u001b[0;34m\u001b[0m\u001b[0m\n",
      "\u001b[0;31mKeyError\u001b[0m: \"['CS02'] not in index\""
     ]
    }
   ],
   "source": [
    "# examine only women\n",
    "\n",
    "import snap\n",
    "import pandas as pd\n",
    "import geopy.distance\n",
    "\n",
    "df_xwalk = pd.read_csv('./ca_xwalk.csv')\n",
    "bay_counties = ['San Francisco County, CA', 'Marin County, CA', 'Alameda County, CA', 'Santa Clara County, CA', 'Contra Costa County, CA', 'San Mateo County, CA']\n",
    "outer_counties = bay_counties + ['Sonoma County, CA', 'San Joaquin County, CA', 'Napa County, CA', 'Santa Cruz County, CA', 'Solano County, CA']\n",
    "df_bay_outer = df_xwalk.loc[df_xwalk['ctyname'].isin(outer_counties)]\n",
    "df_bay = df_xwalk.loc[df_xwalk['ctyname'].isin(bay_counties)]\n",
    "print len(df_bay.index)\n",
    "print len(df_bay_outer.index)\n",
    "\n",
    "\n",
    "years = [2002, 2003, 2004, 2005, 2006, 2007, 2008, 2009, 2010, 2011, 2012, 2013, 2014, 2015]\n",
    "#years = [2008, 2009, 2010, 2011, 2012, 2013, 2014, 2015]\n",
    "#filename = blklatdd blklondd\n",
    "\n",
    "df_bay = df_bay[['tabblk2010', 'trct']]\n",
    "df_bay = df_bay.rename(index=str, columns={\"tabblk2010\": \"w_geocode\", \"trct\" : \"w_trct\"})\n",
    "\n",
    "df_bay_outer = df_bay_outer[['tabblk2010', 'trct']]\n",
    "df_bay_outer = df_bay_outer.rename(index=str, columns={\"tabblk2010\": \"h_geocode\", \"trct\": \"h_trct\"})\n",
    "df_lat_lon = pd.read_csv('tract_lat_lon.csv')\n",
    "\n",
    "for year in years:\n",
    "    df = pd.read_csv(\"./ca_od_main_JT01_\"+str(year)+\".csv\")\n",
    "\n",
    "    df_work_bay = pd.merge(df, df_bay, on='w_geocode')\n",
    "\n",
    "    df_work_bay_home_bayouter = pd.merge(df_work_bay, df_bay_outer, on='h_geocode')\n",
    "    \n",
    "    df_work_bay_home_bayouter = df_work_bay_home_bayouter[['w_geocode', 'h_geocode', 'w_trct', 'h_trct', 'CS02']]\n",
    "    \n",
    "    df_work_bay_home_bayouter = df_work_bay_home_bayouter[['w_trct', 'h_trct', 'CS02']]\n",
    "    df_work_bay_home_bayouter = df_work_bay_home_bayouter[df_work_bay_home_bayouter.CS02 != 0]\n",
    "    df_work_bay_home_bayouter = df_work_bay_home_bayouter.groupby(['w_trct', 'h_trct']).sum().reset_index()\n",
    "    \n",
    "    # new\n",
    "    df_work_bay_home_bayouter = pd.merge(df_work_bay_home_bayouter, df_lat_lon, on='w_trct')\n",
    "    df_work_bay_home_bayouter = df_work_bay_home_bayouter.rename(index=str, columns={\"lat\":\"w_lat\", \"lon\":\"w_lon\"})\n",
    "    df_lat_lon = df_lat_lon.rename(index=str, columns={\"w_trct\":\"h_trct\"})\n",
    "    df_work_bay_home_bayouter = pd.merge(df_work_bay_home_bayouter, df_lat_lon, on='h_trct')\n",
    "    df_work_bay_home_bayouter = df_work_bay_home_bayouter.rename(index=str, columns={\"lat\":\"h_lat\", \"lon\":\"h_lon\"})\n",
    "    df_lat_lon = df_lat_lon.rename(index=str, columns={\"h_trct\":\"w_trct\"})\n",
    "    \n",
    "    dist = []\n",
    "    w_lat = df_work_bay_home_bayouter['w_lat']\n",
    "    w_lon = df_work_bay_home_bayouter['w_lon']\n",
    "    h_lat = df_work_bay_home_bayouter['h_lat']\n",
    "    h_lon = df_work_bay_home_bayouter['h_lon']\n",
    "    for i in range(len(w_lat)):\n",
    "        coords_1 = (w_lat[i], w_lon[i])\n",
    "        coords_2 = (h_lat[i], h_lon[i])\n",
    "        dist.append(geopy.distance.distance(coords_1, coords_2).miles) \n",
    "        \n",
    "    df_work_bay_home_bayouter['dist'] = dist\n",
    "    df_work_bay_home_bayouter = df_work_bay_home_bayouter.drop(columns=['w_lat','w_lon','h_lat','h_lon'])\n",
    "    \n",
    "    df_work_bay_home_bayouter.to_csv('bay_outer_tract_women_'+str(year)+'.csv',index=False)\n",
    "    df_work_bay_home_bayouter.to_csv('bay_outer_tract_women_'+str(year)+'.txt',index=False, header=False, sep=' ')\n",
    "    \n",
    "    continue\n",
    "    census_tract_indeg_dict = {}\n",
    "\n",
    "    for index, row in df_work_bay_home_bayouter.iterrows():\n",
    "        if row['w_trct'] in census_tract_indeg_dict.keys():\n",
    "            census_tract_indeg_dict[row['w_trct']] += row['CS02']\n",
    "        else:\n",
    "            census_tract_indeg_dict[row['w_trct']] = row['CS02']\n",
    "#         if index % 100000 == 0:\n",
    "#             print index\n",
    "            \n",
    "    indeg_df = pd.DataFrame.from_dict(census_tract_indeg_dict, orient='index')\n",
    "    indeg_df['w_trct'] = indeg_df.index\n",
    "    indeg_df = indeg_df.rename(index=str, columns={0: \"indeg\"})\n",
    "\n",
    "    indeg_df.to_csv('bay_outer_tract_indeg_women_'+str(year)+'.csv',index=False)"
   ]
  },
  {
   "cell_type": "code",
   "execution_count": 13,
   "metadata": {
    "collapsed": true
   },
   "outputs": [],
   "source": [
    "year = 2010\n",
    "indeg_df = pd.DataFrame.from_dict(census_tract_indeg_dict, orient='index')\n",
    "indeg_df['w_trct'] = indeg_df.index\n",
    "indeg_df = indeg_df.rename(index=str, columns={0: \"indeg\"})\n",
    "\n",
    "indeg_df.to_csv('bay_outer_tract_indeg_'+str(year)+'.csv',index=False)"
   ]
  },
  {
   "cell_type": "code",
   "execution_count": 4,
   "metadata": {},
   "outputs": [
    {
     "name": "stdout",
     "output_type": "stream",
     "text": [
      "2121308\n",
      "2284949\n"
     ]
    }
   ],
   "source": [
    "print len(df_work_bay_home_bayouter)\n",
    "print df_work_bay_home_bayouter['S000'].sum()"
   ]
  },
  {
   "cell_type": "code",
   "execution_count": 5,
   "metadata": {
    "collapsed": true
   },
   "outputs": [],
   "source": [
    "df_g = df_work_bay_home_bayouter[['w_trct', 'h_trct', 'S000']]\n",
    "df_g = df_work_bay_home_bayouter.groupby(['w_trct', 'h_trct']).sum()"
   ]
  },
  {
   "cell_type": "code",
   "execution_count": 7,
   "metadata": {},
   "outputs": [
    {
     "name": "stdout",
     "output_type": "stream",
     "text": [
      "561874\n",
      "2284949\n"
     ]
    }
   ],
   "source": [
    "print len(df_g)\n",
    "print df_g['S000'].sum()"
   ]
  },
  {
   "cell_type": "code",
   "execution_count": 5,
   "metadata": {},
   "outputs": [
    {
     "name": "stdout",
     "output_type": "stream",
     "text": [
      "85786\n",
      "127552\n",
      "1780\n"
     ]
    }
   ],
   "source": [
    "df_xwalk = pd.read_csv('./ca_xwalk.csv')\n",
    "bay_counties = ['San Francisco County, CA', 'Marin County, CA', 'Alameda County, CA', 'Santa Clara County, CA', 'Contra Costa County, CA', 'San Mateo County, CA']\n",
    "outer_counties = bay_counties + ['Sonoma County, CA', 'San Joaquin County, CA', 'Napa County, CA', 'Santa Cruz County, CA', 'Solano County, CA']\n",
    "df_bay_outer = df_xwalk.loc[df_xwalk['ctyname'].isin(outer_counties)]\n",
    "df_bay = df_xwalk.loc[df_xwalk['ctyname'].isin(bay_counties)]\n",
    "print len(df_bay.index)\n",
    "print len(df_bay_outer.index)\n",
    "\n",
    "\n",
    "years = [2010, 2011, 2012, 2013, 2014, 2015]\n",
    "#filename = blklatdd blklondd\n",
    "\n",
    "df_bay_outer = df_bay_outer[['tabblk2010', 'trct', 'blklatdd', 'blklondd']]\n",
    "df_bay_outer = df_bay_outer.rename(index=str, columns={\"tabblk2010\": \"w_geocode\", \"trct\" : \"w_trct\", \"blklatdd\": \"lat\", \"blklondd\": \"lon\"})\n",
    "\n",
    "df_bay_outer = df_bay_outer.drop(columns=['w_geocode'])\n",
    "df_bay_outer = df_bay_outer.groupby(['w_trct']).mean()\n",
    "df_bay_outer.to_csv(\"tract_lat_lon.csv\")\n",
    "print len(df_bay_outer)"
   ]
  },
  {
   "cell_type": "code",
   "execution_count": null,
   "metadata": {
    "collapsed": true
   },
   "outputs": [],
   "source": []
  }
 ],
 "metadata": {
  "kernelspec": {
   "display_name": "projectname",
   "language": "python",
   "name": "projectname"
  },
  "language_info": {
   "codemirror_mode": {
    "name": "ipython",
    "version": 2
   },
   "file_extension": ".py",
   "mimetype": "text/x-python",
   "name": "python",
   "nbconvert_exporter": "python",
   "pygments_lexer": "ipython2",
   "version": "2.7.10"
  }
 },
 "nbformat": 4,
 "nbformat_minor": 2
}
