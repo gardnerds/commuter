{
 "cells": [
  {
   "cell_type": "code",
   "execution_count": 4,
   "metadata": {},
   "outputs": [
    {
     "name": "stdout",
     "output_type": "stream",
     "text": [
      "2.7.10 (default, Oct  6 2017, 22:29:07) \n",
      "[GCC 4.2.1 Compatible Apple LLVM 9.0.0 (clang-900.0.31)]\n"
     ]
    }
   ],
   "source": [
    "import sys\n",
    "import snap\n",
    "import pandas as pd\n",
    "import numpy as np\n",
    "import matplotlib.pyplot as plt\n",
    "print(sys.version)"
   ]
  },
  {
   "cell_type": "code",
   "execution_count": 94,
   "metadata": {
    "collapsed": true
   },
   "outputs": [],
   "source": [
    "year = 2010\n",
    "#filename = \n",
    "df = pd.read_csv(\"./ca_od_main_JT01_\"+str(year)+\".csv\")"
   ]
  },
  {
   "cell_type": "code",
   "execution_count": 6,
   "metadata": {},
   "outputs": [
    {
     "data": {
      "text/plain": [
       "Index([u'w_geocode', u'h_geocode', u'S000', u'SA01', u'SA02', u'SA03', u'SE01',\n",
       "       u'SE02', u'SE03', u'SI01', u'SI02', u'SI03', u'createdate'],\n",
       "      dtype='object')"
      ]
     },
     "execution_count": 6,
     "metadata": {},
     "output_type": "execute_result"
    }
   ],
   "source": [
    "df.columns"
   ]
  },
  {
   "cell_type": "code",
   "execution_count": 8,
   "metadata": {},
   "outputs": [
    {
     "data": {
      "text/plain": [
       "w_geocode     930926994571744954\n",
       "h_geocode     933343385723491599\n",
       "S000                    14448147\n",
       "SA01                     3100658\n",
       "SA02                     8144634\n",
       "SA03                     3202855\n",
       "SE01                     2629410\n",
       "SE02                     4803767\n",
       "SE03                     7014970\n",
       "SI01                     2253449\n",
       "SI02                     2731953\n",
       "SI03                     9462745\n",
       "createdate       270649215761767\n",
       "dtype: int64"
      ]
     },
     "execution_count": 8,
     "metadata": {},
     "output_type": "execute_result"
    }
   ],
   "source": [
    "df.head()\n",
    "df.sum()"
   ]
  },
  {
   "cell_type": "code",
   "execution_count": 95,
   "metadata": {},
   "outputs": [
    {
     "data": {
      "text/plain": [
       "1      11580221\n",
       "2        452100\n",
       "3         87700\n",
       "4         29915\n",
       "5         13339\n",
       "6          6905\n",
       "7          3932\n",
       "8          2446\n",
       "9          1651\n",
       "10         1100\n",
       "11          762\n",
       "12          527\n",
       "13          401\n",
       "14          321\n",
       "15          248\n",
       "16          184\n",
       "17          170\n",
       "18          121\n",
       "19          119\n",
       "20           83\n",
       "21           74\n",
       "22           57\n",
       "23           53\n",
       "24           40\n",
       "25           33\n",
       "26           27\n",
       "29           23\n",
       "28           21\n",
       "30           21\n",
       "27           20\n",
       "         ...   \n",
       "58            2\n",
       "56            2\n",
       "37            2\n",
       "50            2\n",
       "111           1\n",
       "87            1\n",
       "110           1\n",
       "106           1\n",
       "112           1\n",
       "103           1\n",
       "119           1\n",
       "102           1\n",
       "101           1\n",
       "94            1\n",
       "160           1\n",
       "90            1\n",
       "49            1\n",
       "83            1\n",
       "82            1\n",
       "76            1\n",
       "75            1\n",
       "74            1\n",
       "70            1\n",
       "66            1\n",
       "64            1\n",
       "62            1\n",
       "57            1\n",
       "53            1\n",
       "176           1\n",
       "200           1\n",
       "Name: S000, Length: 92, dtype: int64"
      ]
     },
     "execution_count": 95,
     "metadata": {},
     "output_type": "execute_result"
    }
   ],
   "source": [
    "df['S000'].value_counts()"
   ]
  },
  {
   "cell_type": "code",
   "execution_count": 18,
   "metadata": {},
   "outputs": [
    {
     "name": "stdout",
     "output_type": "stream",
     "text": [
      "0\n",
      "100000\n",
      "200000\n"
     ]
    },
    {
     "ename": "KeyboardInterrupt",
     "evalue": "",
     "output_type": "error",
     "traceback": [
      "\u001b[0;31m---------------------------------------------------------------------------\u001b[0m",
      "\u001b[0;31mKeyboardInterrupt\u001b[0m                         Traceback (most recent call last)",
      "\u001b[0;32m<ipython-input-18-39a1944fdb3b>\u001b[0m in \u001b[0;36m<module>\u001b[0;34m()\u001b[0m\n\u001b[1;32m      5\u001b[0m         \u001b[0mcensus_block_indeg_dict\u001b[0m\u001b[0;34m[\u001b[0m\u001b[0;34m'w_geocode'\u001b[0m\u001b[0;34m]\u001b[0m \u001b[0;34m+=\u001b[0m \u001b[0mrow\u001b[0m\u001b[0;34m[\u001b[0m\u001b[0;34m'S000'\u001b[0m\u001b[0;34m]\u001b[0m\u001b[0;34m\u001b[0m\u001b[0m\n\u001b[1;32m      6\u001b[0m     \u001b[0;32melse\u001b[0m\u001b[0;34m:\u001b[0m\u001b[0;34m\u001b[0m\u001b[0m\n\u001b[0;32m----> 7\u001b[0;31m         \u001b[0mcensus_block_indeg_dict\u001b[0m\u001b[0;34m[\u001b[0m\u001b[0;34m'w_geocode'\u001b[0m\u001b[0;34m]\u001b[0m \u001b[0;34m=\u001b[0m \u001b[0mrow\u001b[0m\u001b[0;34m[\u001b[0m\u001b[0;34m'S000'\u001b[0m\u001b[0;34m]\u001b[0m\u001b[0;34m\u001b[0m\u001b[0m\n\u001b[0m\u001b[1;32m      8\u001b[0m     \u001b[0;32mif\u001b[0m \u001b[0mindex\u001b[0m \u001b[0;34m%\u001b[0m \u001b[0;36m100000\u001b[0m \u001b[0;34m==\u001b[0m \u001b[0;36m0\u001b[0m\u001b[0;34m:\u001b[0m\u001b[0;34m\u001b[0m\u001b[0m\n\u001b[1;32m      9\u001b[0m         \u001b[0;32mprint\u001b[0m \u001b[0mindex\u001b[0m\u001b[0;34m\u001b[0m\u001b[0m\n",
      "\u001b[0;32m/Users/gardner49/Documents/Other/Stanford/CS224W/PROJECT/env/lib/python2.7/site-packages/pandas/core/series.pyc\u001b[0m in \u001b[0;36m__getitem__\u001b[0;34m(self, key)\u001b[0m\n\u001b[1;32m    765\u001b[0m         \u001b[0mkey\u001b[0m \u001b[0;34m=\u001b[0m \u001b[0mcom\u001b[0m\u001b[0;34m.\u001b[0m\u001b[0m_apply_if_callable\u001b[0m\u001b[0;34m(\u001b[0m\u001b[0mkey\u001b[0m\u001b[0;34m,\u001b[0m \u001b[0mself\u001b[0m\u001b[0;34m)\u001b[0m\u001b[0;34m\u001b[0m\u001b[0m\n\u001b[1;32m    766\u001b[0m         \u001b[0;32mtry\u001b[0m\u001b[0;34m:\u001b[0m\u001b[0;34m\u001b[0m\u001b[0m\n\u001b[0;32m--> 767\u001b[0;31m             \u001b[0mresult\u001b[0m \u001b[0;34m=\u001b[0m \u001b[0mself\u001b[0m\u001b[0;34m.\u001b[0m\u001b[0mindex\u001b[0m\u001b[0;34m.\u001b[0m\u001b[0mget_value\u001b[0m\u001b[0;34m(\u001b[0m\u001b[0mself\u001b[0m\u001b[0;34m,\u001b[0m \u001b[0mkey\u001b[0m\u001b[0;34m)\u001b[0m\u001b[0;34m\u001b[0m\u001b[0m\n\u001b[0m\u001b[1;32m    768\u001b[0m \u001b[0;34m\u001b[0m\u001b[0m\n\u001b[1;32m    769\u001b[0m             \u001b[0;32mif\u001b[0m \u001b[0;32mnot\u001b[0m \u001b[0mis_scalar\u001b[0m\u001b[0;34m(\u001b[0m\u001b[0mresult\u001b[0m\u001b[0;34m)\u001b[0m\u001b[0;34m:\u001b[0m\u001b[0;34m\u001b[0m\u001b[0m\n",
      "\u001b[0;32m/Users/gardner49/Documents/Other/Stanford/CS224W/PROJECT/env/lib/python2.7/site-packages/pandas/core/indexes/base.pyc\u001b[0m in \u001b[0;36mget_value\u001b[0;34m(self, series, key)\u001b[0m\n\u001b[1;32m   3097\u001b[0m         \u001b[0;31m# use this, e.g. DatetimeIndex\u001b[0m\u001b[0;34m\u001b[0m\u001b[0;34m\u001b[0m\u001b[0m\n\u001b[1;32m   3098\u001b[0m         \u001b[0ms\u001b[0m \u001b[0;34m=\u001b[0m \u001b[0mgetattr\u001b[0m\u001b[0;34m(\u001b[0m\u001b[0mseries\u001b[0m\u001b[0;34m,\u001b[0m \u001b[0;34m'_values'\u001b[0m\u001b[0;34m,\u001b[0m \u001b[0mNone\u001b[0m\u001b[0;34m)\u001b[0m\u001b[0;34m\u001b[0m\u001b[0m\n\u001b[0;32m-> 3099\u001b[0;31m         \u001b[0;32mif\u001b[0m \u001b[0misinstance\u001b[0m\u001b[0;34m(\u001b[0m\u001b[0ms\u001b[0m\u001b[0;34m,\u001b[0m \u001b[0;34m(\u001b[0m\u001b[0mExtensionArray\u001b[0m\u001b[0;34m,\u001b[0m \u001b[0mIndex\u001b[0m\u001b[0;34m)\u001b[0m\u001b[0;34m)\u001b[0m \u001b[0;32mand\u001b[0m \u001b[0mis_scalar\u001b[0m\u001b[0;34m(\u001b[0m\u001b[0mkey\u001b[0m\u001b[0;34m)\u001b[0m\u001b[0;34m:\u001b[0m\u001b[0;34m\u001b[0m\u001b[0m\n\u001b[0m\u001b[1;32m   3100\u001b[0m             \u001b[0;31m# GH 20825\u001b[0m\u001b[0;34m\u001b[0m\u001b[0;34m\u001b[0m\u001b[0m\n\u001b[1;32m   3101\u001b[0m             \u001b[0;31m# Unify Index and ExtensionArray treatment\u001b[0m\u001b[0;34m\u001b[0m\u001b[0;34m\u001b[0m\u001b[0m\n",
      "\u001b[0;31mKeyboardInterrupt\u001b[0m: "
     ]
    }
   ],
   "source": [
    "census_block_indeg_dict = {}\n",
    "\n",
    "for index, row in df.iterrows():\n",
    "    if row['w_geocode'] in census_block_indeg_dict.keys():\n",
    "        census_block_indeg_dict[row['w_geocode']] += row['S000']\n",
    "    else:\n",
    "        census_block_indeg_dict[row['w_geocode']] = row['S000']\n",
    "    if index % 100000 == 0:\n",
    "        print index"
   ]
  },
  {
   "cell_type": "code",
   "execution_count": 19,
   "metadata": {},
   "outputs": [
    {
     "name": "stderr",
     "output_type": "stream",
     "text": [
      "/Users/gardner49/Documents/Other/Stanford/CS224W/PROJECT/env/lib/python2.7/site-packages/IPython/core/interactiveshell.py:2714: DtypeWarning: Columns (27,28,29,37) have mixed types. Specify dtype option on import or set low_memory=False.\n",
      "  interactivity=interactivity, compiler=compiler, result=result)\n"
     ]
    }
   ],
   "source": [
    "df_xwalk = pd.read_csv('./ca_xwalk.csv')"
   ]
  },
  {
   "cell_type": "code",
   "execution_count": 20,
   "metadata": {},
   "outputs": [
    {
     "data": {
      "text/html": [
       "<div>\n",
       "<style scoped>\n",
       "    .dataframe tbody tr th:only-of-type {\n",
       "        vertical-align: middle;\n",
       "    }\n",
       "\n",
       "    .dataframe tbody tr th {\n",
       "        vertical-align: top;\n",
       "    }\n",
       "\n",
       "    .dataframe thead th {\n",
       "        text-align: right;\n",
       "    }\n",
       "</style>\n",
       "<table border=\"1\" class=\"dataframe\">\n",
       "  <thead>\n",
       "    <tr style=\"text-align: right;\">\n",
       "      <th></th>\n",
       "      <th>tabblk2010</th>\n",
       "      <th>st</th>\n",
       "      <th>stusps</th>\n",
       "      <th>stname</th>\n",
       "      <th>cty</th>\n",
       "      <th>ctyname</th>\n",
       "      <th>trct</th>\n",
       "      <th>trctname</th>\n",
       "      <th>bgrp</th>\n",
       "      <th>bgrpname</th>\n",
       "      <th>...</th>\n",
       "      <th>stanrcname</th>\n",
       "      <th>necta</th>\n",
       "      <th>nectaname</th>\n",
       "      <th>mil</th>\n",
       "      <th>milname</th>\n",
       "      <th>stwib</th>\n",
       "      <th>stwibname</th>\n",
       "      <th>blklatdd</th>\n",
       "      <th>blklondd</th>\n",
       "      <th>createdate</th>\n",
       "    </tr>\n",
       "  </thead>\n",
       "  <tbody>\n",
       "    <tr>\n",
       "      <th>0</th>\n",
       "      <td>60014001001000</td>\n",
       "      <td>6</td>\n",
       "      <td>CA</td>\n",
       "      <td>California</td>\n",
       "      <td>6001</td>\n",
       "      <td>Alameda County, CA</td>\n",
       "      <td>6001400100</td>\n",
       "      <td>4001 (Alameda, CA)</td>\n",
       "      <td>60014001001</td>\n",
       "      <td>1 (Tract 4001, Alameda, CA)</td>\n",
       "      <td>...</td>\n",
       "      <td>NaN</td>\n",
       "      <td>99999</td>\n",
       "      <td>NaN</td>\n",
       "      <td>9999999999999999999999</td>\n",
       "      <td>NaN</td>\n",
       "      <td>6000003</td>\n",
       "      <td>03 Oakland City WIB</td>\n",
       "      <td>37.879141</td>\n",
       "      <td>-122.232623</td>\n",
       "      <td>20170919</td>\n",
       "    </tr>\n",
       "    <tr>\n",
       "      <th>1</th>\n",
       "      <td>60014001001001</td>\n",
       "      <td>6</td>\n",
       "      <td>CA</td>\n",
       "      <td>California</td>\n",
       "      <td>6001</td>\n",
       "      <td>Alameda County, CA</td>\n",
       "      <td>6001400100</td>\n",
       "      <td>4001 (Alameda, CA)</td>\n",
       "      <td>60014001001</td>\n",
       "      <td>1 (Tract 4001, Alameda, CA)</td>\n",
       "      <td>...</td>\n",
       "      <td>NaN</td>\n",
       "      <td>99999</td>\n",
       "      <td>NaN</td>\n",
       "      <td>9999999999999999999999</td>\n",
       "      <td>NaN</td>\n",
       "      <td>6000003</td>\n",
       "      <td>03 Oakland City WIB</td>\n",
       "      <td>37.881846</td>\n",
       "      <td>-122.234076</td>\n",
       "      <td>20170919</td>\n",
       "    </tr>\n",
       "    <tr>\n",
       "      <th>2</th>\n",
       "      <td>60014001001002</td>\n",
       "      <td>6</td>\n",
       "      <td>CA</td>\n",
       "      <td>California</td>\n",
       "      <td>6001</td>\n",
       "      <td>Alameda County, CA</td>\n",
       "      <td>6001400100</td>\n",
       "      <td>4001 (Alameda, CA)</td>\n",
       "      <td>60014001001</td>\n",
       "      <td>1 (Tract 4001, Alameda, CA)</td>\n",
       "      <td>...</td>\n",
       "      <td>NaN</td>\n",
       "      <td>99999</td>\n",
       "      <td>NaN</td>\n",
       "      <td>9999999999999999999999</td>\n",
       "      <td>NaN</td>\n",
       "      <td>6000003</td>\n",
       "      <td>03 Oakland City WIB</td>\n",
       "      <td>37.880514</td>\n",
       "      <td>-122.229373</td>\n",
       "      <td>20170919</td>\n",
       "    </tr>\n",
       "    <tr>\n",
       "      <th>3</th>\n",
       "      <td>60014001001003</td>\n",
       "      <td>6</td>\n",
       "      <td>CA</td>\n",
       "      <td>California</td>\n",
       "      <td>6001</td>\n",
       "      <td>Alameda County, CA</td>\n",
       "      <td>6001400100</td>\n",
       "      <td>4001 (Alameda, CA)</td>\n",
       "      <td>60014001001</td>\n",
       "      <td>1 (Tract 4001, Alameda, CA)</td>\n",
       "      <td>...</td>\n",
       "      <td>NaN</td>\n",
       "      <td>99999</td>\n",
       "      <td>NaN</td>\n",
       "      <td>9999999999999999999999</td>\n",
       "      <td>NaN</td>\n",
       "      <td>6000003</td>\n",
       "      <td>03 Oakland City WIB</td>\n",
       "      <td>37.883119</td>\n",
       "      <td>-122.239007</td>\n",
       "      <td>20170919</td>\n",
       "    </tr>\n",
       "    <tr>\n",
       "      <th>4</th>\n",
       "      <td>60014001001004</td>\n",
       "      <td>6</td>\n",
       "      <td>CA</td>\n",
       "      <td>California</td>\n",
       "      <td>6001</td>\n",
       "      <td>Alameda County, CA</td>\n",
       "      <td>6001400100</td>\n",
       "      <td>4001 (Alameda, CA)</td>\n",
       "      <td>60014001001</td>\n",
       "      <td>1 (Tract 4001, Alameda, CA)</td>\n",
       "      <td>...</td>\n",
       "      <td>NaN</td>\n",
       "      <td>99999</td>\n",
       "      <td>NaN</td>\n",
       "      <td>9999999999999999999999</td>\n",
       "      <td>NaN</td>\n",
       "      <td>6000003</td>\n",
       "      <td>03 Oakland City WIB</td>\n",
       "      <td>37.882906</td>\n",
       "      <td>-122.238381</td>\n",
       "      <td>20170919</td>\n",
       "    </tr>\n",
       "  </tbody>\n",
       "</table>\n",
       "<p>5 rows × 43 columns</p>\n",
       "</div>"
      ],
      "text/plain": [
       "       tabblk2010  st stusps      stname   cty             ctyname  \\\n",
       "0  60014001001000   6     CA  California  6001  Alameda County, CA   \n",
       "1  60014001001001   6     CA  California  6001  Alameda County, CA   \n",
       "2  60014001001002   6     CA  California  6001  Alameda County, CA   \n",
       "3  60014001001003   6     CA  California  6001  Alameda County, CA   \n",
       "4  60014001001004   6     CA  California  6001  Alameda County, CA   \n",
       "\n",
       "         trct            trctname         bgrp                     bgrpname  \\\n",
       "0  6001400100  4001 (Alameda, CA)  60014001001  1 (Tract 4001, Alameda, CA)   \n",
       "1  6001400100  4001 (Alameda, CA)  60014001001  1 (Tract 4001, Alameda, CA)   \n",
       "2  6001400100  4001 (Alameda, CA)  60014001001  1 (Tract 4001, Alameda, CA)   \n",
       "3  6001400100  4001 (Alameda, CA)  60014001001  1 (Tract 4001, Alameda, CA)   \n",
       "4  6001400100  4001 (Alameda, CA)  60014001001  1 (Tract 4001, Alameda, CA)   \n",
       "\n",
       "     ...      stanrcname  necta  nectaname                     mil  milname  \\\n",
       "0    ...             NaN  99999        NaN  9999999999999999999999      NaN   \n",
       "1    ...             NaN  99999        NaN  9999999999999999999999      NaN   \n",
       "2    ...             NaN  99999        NaN  9999999999999999999999      NaN   \n",
       "3    ...             NaN  99999        NaN  9999999999999999999999      NaN   \n",
       "4    ...             NaN  99999        NaN  9999999999999999999999      NaN   \n",
       "\n",
       "     stwib            stwibname   blklatdd    blklondd createdate  \n",
       "0  6000003  03 Oakland City WIB  37.879141 -122.232623   20170919  \n",
       "1  6000003  03 Oakland City WIB  37.881846 -122.234076   20170919  \n",
       "2  6000003  03 Oakland City WIB  37.880514 -122.229373   20170919  \n",
       "3  6000003  03 Oakland City WIB  37.883119 -122.239007   20170919  \n",
       "4  6000003  03 Oakland City WIB  37.882906 -122.238381   20170919  \n",
       "\n",
       "[5 rows x 43 columns]"
      ]
     },
     "execution_count": 20,
     "metadata": {},
     "output_type": "execute_result"
    }
   ],
   "source": [
    "df_xwalk.head()"
   ]
  },
  {
   "cell_type": "code",
   "execution_count": 21,
   "metadata": {},
   "outputs": [
    {
     "data": {
      "text/plain": [
       "Los Angeles County, CA        109587\n",
       "San Bernardino County, CA      48173\n",
       "San Diego County, CA           43415\n",
       "Orange County, CA              36873\n",
       "Riverside County, CA           35720\n",
       "Kern County, CA                35280\n",
       "Alameda County, CA             23956\n",
       "Santa Clara County, CA         22369\n",
       "Fresno County, CA              22096\n",
       "Sacramento County, CA          19939\n",
       "Contra Costa County, CA        18309\n",
       "Ventura County, CA             14856\n",
       "Tulare County, CA              13796\n",
       "San Joaquin County, CA         13239\n",
       "San Luis Obispo County, CA     11428\n",
       "Monterey County, CA            10601\n",
       "Shasta County, CA              10564\n",
       "Sonoma County, CA              10389\n",
       "Santa Barbara County, CA       10370\n",
       "Solano County, CA              10282\n",
       "Siskiyou County, CA            10152\n",
       "Humboldt County, CA             9697\n",
       "San Mateo County, CA            9260\n",
       "Placer County, CA               9162\n",
       "Imperial County, CA             8875\n",
       "Stanislaus County, CA           8544\n",
       "Mendocino County, CA            8235\n",
       "San Francisco County, CA        7386\n",
       "Merced County, CA               7180\n",
       "Butte County, CA                6517\n",
       "                               ...  \n",
       "El Dorado County, CA            5810\n",
       "Lassen County, CA               5639\n",
       "Tehama County, CA               5435\n",
       "Inyo County, CA                 5317\n",
       "Modoc County, CA                5222\n",
       "Lake County, CA                 5164\n",
       "Santa Cruz County, CA           5085\n",
       "Madera County, CA               4989\n",
       "Tuolumne County, CA             4753\n",
       "Plumas County, CA               4732\n",
       "Nevada County, CA               4597\n",
       "Marin County, CA                4506\n",
       "Yolo County, CA                 3601\n",
       "Trinity County, CA              3121\n",
       "Mono County, CA                 3050\n",
       "Yuba County, CA                 2942\n",
       "Calaveras County, CA            2818\n",
       "Glenn County, CA                2783\n",
       "Napa County, CA                 2771\n",
       "Sutter County, CA               2736\n",
       "San Benito County, CA           2650\n",
       "Colusa County, CA               2204\n",
       "Del Norte County, CA            2062\n",
       "Sierra County, CA               1940\n",
       "Mariposa County, CA             1919\n",
       "Amador County, CA               1396\n",
       "Alpine County, CA                456\n",
       "Klamath County, OR                 7\n",
       "Clark County, NV                   1\n",
       "Lake County, OR                    1\n",
       "Name: ctyname, Length: 61, dtype: int64"
      ]
     },
     "execution_count": 21,
     "metadata": {},
     "output_type": "execute_result"
    }
   ],
   "source": [
    "df_xwalk['ctyname'].value_counts()"
   ]
  },
  {
   "cell_type": "code",
   "execution_count": 23,
   "metadata": {},
   "outputs": [
    {
     "data": {
      "text/plain": [
       "85786"
      ]
     },
     "execution_count": 23,
     "metadata": {},
     "output_type": "execute_result"
    }
   ],
   "source": [
    "bay_counties = ['San Francisco County, CA', 'Marin County, CA', 'Alameda County, CA', 'Santa Clara County, CA', 'Contra Costa County, CA', 'San Mateo County, CA']\n",
    "\n",
    "df_bay = df_xwalk.loc[df_xwalk['ctyname'].isin(bay_counties)]\n",
    "\n",
    "len(df_bay.index)"
   ]
  },
  {
   "cell_type": "code",
   "execution_count": 26,
   "metadata": {},
   "outputs": [
    {
     "data": {
      "text/plain": [
       "Index([u'tabblk2010', u'ctyname'], dtype='object')"
      ]
     },
     "execution_count": 26,
     "metadata": {},
     "output_type": "execute_result"
    }
   ],
   "source": [
    "df_bay = df_bay[['tabblk2010', 'ctyname']]\n",
    "\n",
    "df_bay.head()\n",
    "df_bay.columns\n",
    "df_bay['tabblk2010']"
   ]
  },
  {
   "cell_type": "code",
   "execution_count": 96,
   "metadata": {
    "collapsed": true
   },
   "outputs": [],
   "source": [
    "df_bay = df_bay.rename(index=str, columns={\"tabblk2010\": \"w_geocode\"})\n",
    "df_bay.columns\n",
    "df.columns\n",
    "result = pd.merge(df, df_bay, on='w_geocode')"
   ]
  },
  {
   "cell_type": "code",
   "execution_count": 97,
   "metadata": {},
   "outputs": [
    {
     "data": {
      "text/plain": [
       "2415083"
      ]
     },
     "execution_count": 97,
     "metadata": {},
     "output_type": "execute_result"
    }
   ],
   "source": [
    "result.head()\n",
    "len(result.index)"
   ]
  },
  {
   "cell_type": "code",
   "execution_count": 98,
   "metadata": {},
   "outputs": [
    {
     "name": "stdout",
     "output_type": "stream",
     "text": [
      "0\n",
      "100000\n",
      "200000\n",
      "300000\n",
      "400000\n",
      "500000\n",
      "600000\n",
      "700000\n",
      "800000\n",
      "900000\n",
      "1000000\n",
      "1100000\n",
      "1200000\n",
      "1300000\n",
      "1400000\n",
      "1500000\n",
      "1600000\n",
      "1700000\n",
      "1800000\n",
      "1900000\n",
      "2000000\n",
      "2100000\n",
      "2200000\n",
      "2300000\n",
      "2400000\n"
     ]
    }
   ],
   "source": [
    "census_block_indeg_dict = {}\n",
    "\n",
    "for index, row in result.iterrows():\n",
    "    if row['w_geocode'] in census_block_indeg_dict.keys():\n",
    "        census_block_indeg_dict[row['w_geocode']] += row['S000']\n",
    "    else:\n",
    "        census_block_indeg_dict[row['w_geocode']] = row['S000']\n",
    "    if index % 100000 == 0:\n",
    "        print index"
   ]
  },
  {
   "cell_type": "code",
   "execution_count": 43,
   "metadata": {},
   "outputs": [
    {
     "data": {
      "text/plain": [
       "(array([3.8328e+04, 1.0000e+02, 2.6000e+01, 1.2000e+01, 1.0000e+00,\n",
       "        3.0000e+00, 3.0000e+00, 1.0000e+00, 1.0000e+00, 1.0000e+00]),\n",
       " array([1.00000e+00, 2.28890e+03, 4.57680e+03, 6.86470e+03, 9.15260e+03,\n",
       "        1.14405e+04, 1.37284e+04, 1.60163e+04, 1.83042e+04, 2.05921e+04,\n",
       "        2.28800e+04]),\n",
       " <a list of 10 Patch objects>)"
      ]
     },
     "execution_count": 43,
     "metadata": {},
     "output_type": "execute_result"
    },
    {
     "data": {
      "image/png": "[encoded data removed]",
      "text/plain": [
       "<Figure size 432x288 with 1 Axes>"
      ]
     },
     "metadata": {
      "needs_background": "light"
     },
     "output_type": "display_data"
    }
   ],
   "source": [
    "import matplotlib.pyplot as plt\n",
    "plt.hist(census_block_indeg_dict.values())"
   ]
  },
  {
   "cell_type": "code",
   "execution_count": 100,
   "metadata": {},
   "outputs": [
    {
     "name": "stdout",
     "output_type": "stream",
     "text": [
      "43838\n",
      "85786\n",
      "85786\n",
      "41948\n",
      "0\n"
     ]
    }
   ],
   "source": [
    "df_bay_counts = df_xwalk.loc[df_xwalk['ctyname'].isin(bay_counties)]\n",
    "\n",
    "indeg_df = pd.DataFrame.from_dict(census_block_indeg_dict, orient='index')\n",
    "indeg_df['tabblk2010'] = indeg_df.index\n",
    "indeg_df = indeg_df.rename(index=str, columns={0: \"indeg\"})\n",
    "indeg_df.head()\n",
    "#indeg_df.columns\n",
    "\n",
    "result = pd.merge(df, df_bay, on='w_geocode')\n",
    "print len(indeg_df.index)\n",
    "print len(df_bay_counts.index)\n",
    "df_bay_counts = pd.merge(df_bay_counts, indeg_df, on='tabblk2010', how='left')\n",
    "print len(df_bay_counts.index)\n",
    "df_bay_counts.head()\n",
    "print df_bay_counts['indeg'].isna().sum()\n",
    "df_bay_counts['indeg'].fillna(0, inplace=True)\n",
    "print df_bay_counts['indeg'].isna().sum()\n",
    "\n",
    "   "
   ]
  },
  {
   "cell_type": "code",
   "execution_count": 101,
   "metadata": {
    "collapsed": true
   },
   "outputs": [],
   "source": [
    "df_bay_counts.to_csv('bay_xwalk_indeg'+str(year)+'.csv')"
   ]
  },
  {
   "cell_type": "code",
   "execution_count": 103,
   "metadata": {},
   "outputs": [
    {
     "data": {
      "text/plain": [
       "<matplotlib.collections.PathCollection at 0x119e3e810>"
      ]
     },
     "execution_count": 103,
     "metadata": {},
     "output_type": "execute_result"
    },
    {
     "data": {
      "image/png": "[encoded data removed]",
      "text/plain": [
       "<Figure size 432x288 with 1 Axes>"
      ]
     },
     "metadata": {
      "needs_background": "light"
     },
     "output_type": "display_data"
    }
   ],
   "source": [
    "\n",
    "degrees = np.asarray(df_bay_counts['indeg'].tolist())\n",
    "\n",
    "values, counts = np.unique(degrees, return_counts=True)\n",
    "X = values.tolist()\n",
    "normCounts = np.true_divide(counts, np.sum(counts))\n",
    "Y = normCounts.tolist()\n",
    "plt.scatter(X, Y, color = 'y', label = 'indeg fequency log-scale')"
   ]
  },
  {
   "cell_type": "code",
   "execution_count": 75,
   "metadata": {},
   "outputs": [
    {
     "name": "stdout",
     "output_type": "stream",
     "text": [
      "0\n",
      "100000\n",
      "200000\n",
      "300000\n",
      "400000\n",
      "500000\n",
      "600000\n",
      "700000\n",
      "800000\n",
      "900000\n",
      "1000000\n",
      "1100000\n",
      "1200000\n",
      "1300000\n",
      "1400000\n",
      "1500000\n",
      "1600000\n",
      "1700000\n",
      "1800000\n",
      "1900000\n",
      "2000000\n",
      "2100000\n",
      "2200000\n",
      "2300000\n",
      "2400000\n",
      "2500000\n",
      "2600000\n",
      "2700000\n",
      "2800000\n"
     ]
    }
   ],
   "source": [
    "census_block_outdeg_dict = {}\n",
    "\n",
    "for index, row in result.iterrows():\n",
    "    if row['S000'] == 0:\n",
    "        continue\n",
    "    if row['h_geocode'] in census_block_outdeg_dict.keys():\n",
    "        census_block_outdeg_dict[row['h_geocode']] += row['S000']\n",
    "    else:\n",
    "        census_block_outdeg_dict[row['h_geocode']] = row['S000']\n",
    "    if index % 100000 == 0:\n",
    "        print index"
   ]
  },
  {
   "cell_type": "code",
   "execution_count": 79,
   "metadata": {},
   "outputs": [
    {
     "data": {
      "text/html": [
       "<div>\n",
       "<style scoped>\n",
       "    .dataframe tbody tr th:only-of-type {\n",
       "        vertical-align: middle;\n",
       "    }\n",
       "\n",
       "    .dataframe tbody tr th {\n",
       "        vertical-align: top;\n",
       "    }\n",
       "\n",
       "    .dataframe thead th {\n",
       "        text-align: right;\n",
       "    }\n",
       "</style>\n",
       "<table border=\"1\" class=\"dataframe\">\n",
       "  <thead>\n",
       "    <tr style=\"text-align: right;\">\n",
       "      <th></th>\n",
       "      <th>outdeg</th>\n",
       "      <th>tabblk2010</th>\n",
       "    </tr>\n",
       "  </thead>\n",
       "  <tbody>\n",
       "    <tr>\n",
       "      <th>60379203371009</th>\n",
       "      <td>3</td>\n",
       "      <td>60379203371009</td>\n",
       "    </tr>\n",
       "    <tr>\n",
       "      <th>60379203371013</th>\n",
       "      <td>2</td>\n",
       "      <td>60379203371013</td>\n",
       "    </tr>\n",
       "    <tr>\n",
       "      <th>60379203371014</th>\n",
       "      <td>2</td>\n",
       "      <td>60379203371014</td>\n",
       "    </tr>\n",
       "    <tr>\n",
       "      <th>60650426191000</th>\n",
       "      <td>3</td>\n",
       "      <td>60650426191000</td>\n",
       "    </tr>\n",
       "    <tr>\n",
       "      <th>60610210431004</th>\n",
       "      <td>23</td>\n",
       "      <td>60610210431004</td>\n",
       "    </tr>\n",
       "  </tbody>\n",
       "</table>\n",
       "</div>"
      ],
      "text/plain": [
       "                outdeg      tabblk2010\n",
       "60379203371009       3  60379203371009\n",
       "60379203371013       2  60379203371013\n",
       "60379203371014       2  60379203371014\n",
       "60650426191000       3  60650426191000\n",
       "60610210431004      23  60610210431004"
      ]
     },
     "execution_count": 79,
     "metadata": {},
     "output_type": "execute_result"
    }
   ],
   "source": [
    "\n",
    "outdeg_df = pd.DataFrame.from_dict(census_block_outdeg_dict, orient='index')\n",
    "outdeg_df['tabblk2010'] = outdeg_df.index\n",
    "outdeg_df = outdeg_df.rename(index=str, columns={0: \"outdeg\"})\n",
    "outdeg_df.head()\n",
    "\n",
    "\n"
   ]
  },
  {
   "cell_type": "code",
   "execution_count": 81,
   "metadata": {},
   "outputs": [
    {
     "name": "stdout",
     "output_type": "stream",
     "text": [
      "203086\n",
      "85786\n",
      "85786\n",
      "31685\n",
      "0\n"
     ]
    }
   ],
   "source": [
    "print len(outdeg_df.index)\n",
    "print len(df_bay_counts.index)\n",
    "df_bay_counts1 = pd.merge(df_bay_counts, outdeg_df, on='tabblk2010', how='left')\n",
    "print len(df_bay_counts1.index)\n",
    "df_bay_counts1.head()\n",
    "print df_bay_counts1['outdeg'].isna().sum()\n",
    "df_bay_counts1['outdeg'].fillna(0, inplace=True)\n",
    "print df_bay_counts1['outdeg'].isna().sum()"
   ]
  },
  {
   "cell_type": "code",
   "execution_count": 83,
   "metadata": {},
   "outputs": [
    {
     "data": {
      "text/html": [
       "<div>\n",
       "<style scoped>\n",
       "    .dataframe tbody tr th:only-of-type {\n",
       "        vertical-align: middle;\n",
       "    }\n",
       "\n",
       "    .dataframe tbody tr th {\n",
       "        vertical-align: top;\n",
       "    }\n",
       "\n",
       "    .dataframe thead th {\n",
       "        text-align: right;\n",
       "    }\n",
       "</style>\n",
       "<table border=\"1\" class=\"dataframe\">\n",
       "  <thead>\n",
       "    <tr style=\"text-align: right;\">\n",
       "      <th></th>\n",
       "      <th>tabblk2010</th>\n",
       "      <th>st</th>\n",
       "      <th>stusps</th>\n",
       "      <th>stname</th>\n",
       "      <th>cty</th>\n",
       "      <th>ctyname</th>\n",
       "      <th>trct</th>\n",
       "      <th>trctname</th>\n",
       "      <th>bgrp</th>\n",
       "      <th>bgrpname</th>\n",
       "      <th>...</th>\n",
       "      <th>nectaname</th>\n",
       "      <th>mil</th>\n",
       "      <th>milname</th>\n",
       "      <th>stwib</th>\n",
       "      <th>stwibname</th>\n",
       "      <th>blklatdd</th>\n",
       "      <th>blklondd</th>\n",
       "      <th>createdate</th>\n",
       "      <th>indeg</th>\n",
       "      <th>outdeg</th>\n",
       "    </tr>\n",
       "  </thead>\n",
       "  <tbody>\n",
       "    <tr>\n",
       "      <th>0</th>\n",
       "      <td>60014001001000</td>\n",
       "      <td>6</td>\n",
       "      <td>CA</td>\n",
       "      <td>California</td>\n",
       "      <td>6001</td>\n",
       "      <td>Alameda County, CA</td>\n",
       "      <td>6001400100</td>\n",
       "      <td>4001 (Alameda, CA)</td>\n",
       "      <td>60014001001</td>\n",
       "      <td>1 (Tract 4001, Alameda, CA)</td>\n",
       "      <td>...</td>\n",
       "      <td>NaN</td>\n",
       "      <td>9999999999999999999999</td>\n",
       "      <td>NaN</td>\n",
       "      <td>6000003</td>\n",
       "      <td>03 Oakland City WIB</td>\n",
       "      <td>37.879141</td>\n",
       "      <td>-122.232623</td>\n",
       "      <td>20170919</td>\n",
       "      <td>0.0</td>\n",
       "      <td>0.0</td>\n",
       "    </tr>\n",
       "    <tr>\n",
       "      <th>1</th>\n",
       "      <td>60014001001001</td>\n",
       "      <td>6</td>\n",
       "      <td>CA</td>\n",
       "      <td>California</td>\n",
       "      <td>6001</td>\n",
       "      <td>Alameda County, CA</td>\n",
       "      <td>6001400100</td>\n",
       "      <td>4001 (Alameda, CA)</td>\n",
       "      <td>60014001001</td>\n",
       "      <td>1 (Tract 4001, Alameda, CA)</td>\n",
       "      <td>...</td>\n",
       "      <td>NaN</td>\n",
       "      <td>9999999999999999999999</td>\n",
       "      <td>NaN</td>\n",
       "      <td>6000003</td>\n",
       "      <td>03 Oakland City WIB</td>\n",
       "      <td>37.881846</td>\n",
       "      <td>-122.234076</td>\n",
       "      <td>20170919</td>\n",
       "      <td>0.0</td>\n",
       "      <td>0.0</td>\n",
       "    </tr>\n",
       "    <tr>\n",
       "      <th>2</th>\n",
       "      <td>60014001001002</td>\n",
       "      <td>6</td>\n",
       "      <td>CA</td>\n",
       "      <td>California</td>\n",
       "      <td>6001</td>\n",
       "      <td>Alameda County, CA</td>\n",
       "      <td>6001400100</td>\n",
       "      <td>4001 (Alameda, CA)</td>\n",
       "      <td>60014001001</td>\n",
       "      <td>1 (Tract 4001, Alameda, CA)</td>\n",
       "      <td>...</td>\n",
       "      <td>NaN</td>\n",
       "      <td>9999999999999999999999</td>\n",
       "      <td>NaN</td>\n",
       "      <td>6000003</td>\n",
       "      <td>03 Oakland City WIB</td>\n",
       "      <td>37.880514</td>\n",
       "      <td>-122.229373</td>\n",
       "      <td>20170919</td>\n",
       "      <td>0.0</td>\n",
       "      <td>0.0</td>\n",
       "    </tr>\n",
       "    <tr>\n",
       "      <th>3</th>\n",
       "      <td>60014001001003</td>\n",
       "      <td>6</td>\n",
       "      <td>CA</td>\n",
       "      <td>California</td>\n",
       "      <td>6001</td>\n",
       "      <td>Alameda County, CA</td>\n",
       "      <td>6001400100</td>\n",
       "      <td>4001 (Alameda, CA)</td>\n",
       "      <td>60014001001</td>\n",
       "      <td>1 (Tract 4001, Alameda, CA)</td>\n",
       "      <td>...</td>\n",
       "      <td>NaN</td>\n",
       "      <td>9999999999999999999999</td>\n",
       "      <td>NaN</td>\n",
       "      <td>6000003</td>\n",
       "      <td>03 Oakland City WIB</td>\n",
       "      <td>37.883119</td>\n",
       "      <td>-122.239007</td>\n",
       "      <td>20170919</td>\n",
       "      <td>0.0</td>\n",
       "      <td>0.0</td>\n",
       "    </tr>\n",
       "    <tr>\n",
       "      <th>4</th>\n",
       "      <td>60014001001004</td>\n",
       "      <td>6</td>\n",
       "      <td>CA</td>\n",
       "      <td>California</td>\n",
       "      <td>6001</td>\n",
       "      <td>Alameda County, CA</td>\n",
       "      <td>6001400100</td>\n",
       "      <td>4001 (Alameda, CA)</td>\n",
       "      <td>60014001001</td>\n",
       "      <td>1 (Tract 4001, Alameda, CA)</td>\n",
       "      <td>...</td>\n",
       "      <td>NaN</td>\n",
       "      <td>9999999999999999999999</td>\n",
       "      <td>NaN</td>\n",
       "      <td>6000003</td>\n",
       "      <td>03 Oakland City WIB</td>\n",
       "      <td>37.882906</td>\n",
       "      <td>-122.238381</td>\n",
       "      <td>20170919</td>\n",
       "      <td>0.0</td>\n",
       "      <td>0.0</td>\n",
       "    </tr>\n",
       "  </tbody>\n",
       "</table>\n",
       "<p>5 rows × 45 columns</p>\n",
       "</div>"
      ],
      "text/plain": [
       "       tabblk2010  st stusps      stname   cty             ctyname  \\\n",
       "0  60014001001000   6     CA  California  6001  Alameda County, CA   \n",
       "1  60014001001001   6     CA  California  6001  Alameda County, CA   \n",
       "2  60014001001002   6     CA  California  6001  Alameda County, CA   \n",
       "3  60014001001003   6     CA  California  6001  Alameda County, CA   \n",
       "4  60014001001004   6     CA  California  6001  Alameda County, CA   \n",
       "\n",
       "         trct            trctname         bgrp                     bgrpname  \\\n",
       "0  6001400100  4001 (Alameda, CA)  60014001001  1 (Tract 4001, Alameda, CA)   \n",
       "1  6001400100  4001 (Alameda, CA)  60014001001  1 (Tract 4001, Alameda, CA)   \n",
       "2  6001400100  4001 (Alameda, CA)  60014001001  1 (Tract 4001, Alameda, CA)   \n",
       "3  6001400100  4001 (Alameda, CA)  60014001001  1 (Tract 4001, Alameda, CA)   \n",
       "4  6001400100  4001 (Alameda, CA)  60014001001  1 (Tract 4001, Alameda, CA)   \n",
       "\n",
       "   ...    nectaname                     mil  milname    stwib  \\\n",
       "0  ...          NaN  9999999999999999999999      NaN  6000003   \n",
       "1  ...          NaN  9999999999999999999999      NaN  6000003   \n",
       "2  ...          NaN  9999999999999999999999      NaN  6000003   \n",
       "3  ...          NaN  9999999999999999999999      NaN  6000003   \n",
       "4  ...          NaN  9999999999999999999999      NaN  6000003   \n",
       "\n",
       "             stwibname   blklatdd    blklondd createdate  indeg outdeg  \n",
       "0  03 Oakland City WIB  37.879141 -122.232623   20170919    0.0    0.0  \n",
       "1  03 Oakland City WIB  37.881846 -122.234076   20170919    0.0    0.0  \n",
       "2  03 Oakland City WIB  37.880514 -122.229373   20170919    0.0    0.0  \n",
       "3  03 Oakland City WIB  37.883119 -122.239007   20170919    0.0    0.0  \n",
       "4  03 Oakland City WIB  37.882906 -122.238381   20170919    0.0    0.0  \n",
       "\n",
       "[5 rows x 45 columns]"
      ]
     },
     "execution_count": 83,
     "metadata": {},
     "output_type": "execute_result"
    }
   ],
   "source": [
    "df_bay_counts1.head()"
   ]
  },
  {
   "cell_type": "code",
   "execution_count": 89,
   "metadata": {},
   "outputs": [
    {
     "data": {
      "text/plain": [
       "[<matplotlib.lines.Line2D at 0x11b505990>]"
      ]
     },
     "execution_count": 89,
     "metadata": {},
     "output_type": "execute_result"
    },
    {
     "data": {
      "image/png": "[encoded data removed]",
      "text/plain": [
       "<Figure size 432x288 with 1 Axes>"
      ]
     },
     "metadata": {
      "needs_background": "light"
     },
     "output_type": "display_data"
    }
   ],
   "source": [
    "degrees = np.asarray(df_bay_counts1['outdeg'].tolist())\n",
    "\n",
    "values, counts = np.unique(degrees, return_counts=True)\n",
    "X = values.tolist()\n",
    "normCounts = np.true_divide(counts, np.sum(counts))\n",
    "Y = normCounts.tolist()\n",
    "plt.loglog(X, Y, color = 'y', label = 'outdeg fequency log-scale')"
   ]
  },
  {
   "cell_type": "code",
   "execution_count": 91,
   "metadata": {
    "collapsed": true
   },
   "outputs": [],
   "source": [
    "df_bay_counts1.to_csv('bay_xwalk_indeg_out.csv')"
   ]
  },
  {
   "cell_type": "code",
   "execution_count": 14,
   "metadata": {},
   "outputs": [
    {
     "data": {
      "text/plain": [
       "Text(0,0.5,'frequency')"
      ]
     },
     "execution_count": 14,
     "metadata": {},
     "output_type": "execute_result"
    },
    {
     "data": {
      "image/png": "[encoded data removed]",
      "text/plain": [
       "<Figure size 432x288 with 1 Axes>"
      ]
     },
     "metadata": {
      "needs_background": "light"
     },
     "output_type": "display_data"
    }
   ],
   "source": [
    "df = pd.read_csv('bay_xwalk_indeg_outdeg_2015.csv')\n",
    "\n",
    "degrees = np.asarray(df['indeg'].tolist())\n",
    "\n",
    "values, counts = np.unique(degrees, return_counts=True)\n",
    "X = values.tolist()\n",
    "normCounts = np.true_divide(counts, np.sum(counts))\n",
    "Y = normCounts.tolist()\n",
    "plt.loglog(X, Y, color = 'y', label = 'indeg fequency log-scale')\n",
    "plt.title('in-degree frequency 2015')\n",
    "plt.xlabel('in-degrees')\n",
    "plt.ylabel('frequency')\n",
    "\n"
   ]
  },
  {
   "cell_type": "code",
   "execution_count": 15,
   "metadata": {},
   "outputs": [
    {
     "data": {
      "text/plain": [
       "Text(0,0.5,'frequency')"
      ]
     },
     "execution_count": 15,
     "metadata": {},
     "output_type": "execute_result"
    },
    {
     "data": {
      "image/png": "[encoded data removed]",
      "text/plain": [
       "<Figure size 432x288 with 1 Axes>"
      ]
     },
     "metadata": {
      "needs_background": "light"
     },
     "output_type": "display_data"
    }
   ],
   "source": [
    "df = pd.read_csv('bay_xwalk_indeg_2010.csv')\n",
    "degrees = np.asarray(df['indeg'].tolist())\n",
    "\n",
    "values, counts = np.unique(degrees, return_counts=True)\n",
    "X = values.tolist()\n",
    "normCounts = np.true_divide(counts, np.sum(counts))\n",
    "Y = normCounts.tolist()\n",
    "plt.loglog(X, Y, color = 'y', label = 'indeg fequency log-scale')\n",
    "plt.title('in-degree frequency 2010')\n",
    "plt.xlabel('in-degrees')\n",
    "plt.ylabel('frequency')\n"
   ]
  },
  {
   "cell_type": "code",
   "execution_count": 13,
   "metadata": {},
   "outputs": [
    {
     "data": {
      "text/plain": [
       "Text(0,0.5,'frequency')"
      ]
     },
     "execution_count": 13,
     "metadata": {},
     "output_type": "execute_result"
    },
    {
     "data": {
      "image/png": "[encoded data removed]",
      "text/plain": [
       "<Figure size 432x288 with 1 Axes>"
      ]
     },
     "metadata": {
      "needs_background": "light"
     },
     "output_type": "display_data"
    }
   ],
   "source": [
    "degrees = np.asarray(df['outdeg'].tolist())\n",
    "\n",
    "values, counts = np.unique(degrees, return_counts=True)\n",
    "X = values.tolist()\n",
    "normCounts = np.true_divide(counts, np.sum(counts))\n",
    "Y = normCounts.tolist()\n",
    "plt.loglog(X, Y, color = 'y', label = 'outdeg fequency log-scale')\n",
    "plt.title('out-degree frequency 2015')\n",
    "plt.xlabel('out-degrees')\n",
    "plt.ylabel('frequency')"
   ]
  },
  {
   "cell_type": "code",
   "execution_count": null,
   "metadata": {
    "collapsed": true
   },
   "outputs": [],
   "source": []
  }
 ],
 "metadata": {
  "kernelspec": {
   "display_name": "projectname",
   "language": "python",
   "name": "projectname"
  },
  "language_info": {
   "codemirror_mode": {
    "name": "ipython",
    "version": 2
   },
   "file_extension": ".py",
   "mimetype": "text/x-python",
   "name": "python",
   "nbconvert_exporter": "python",
   "pygments_lexer": "ipython2",
   "version": "2.7.10"
  }
 },
 "nbformat": 4,
 "nbformat_minor": 2
}
